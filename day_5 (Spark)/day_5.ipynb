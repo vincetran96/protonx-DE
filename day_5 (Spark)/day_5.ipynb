{
 "cells": [
  {
   "attachments": {},
   "cell_type": "markdown",
   "id": "c0c40f04",
   "metadata": {},
   "source": [
    "# Init Spark"
   ]
  },
  {
   "cell_type": "code",
   "execution_count": 6,
   "id": "07de9dc3",
   "metadata": {},
   "outputs": [],
   "source": [
    "import pyspark\n",
    "from pyspark.conf import SparkConf\n",
    "from pyspark.context import SparkContext\n",
    "from pyspark.sql import SparkSession\n",
    "\n",
    "from pathlib import Path"
   ]
  },
  {
   "cell_type": "code",
   "execution_count": 70,
   "id": "526909ae",
   "metadata": {},
   "outputs": [
    {
     "ename": "ConnectionRefusedError",
     "evalue": "[Errno 61] Connection refused",
     "output_type": "error",
     "traceback": [
      "\u001b[0;31m---------------------------------------------------------------------------\u001b[0m",
      "\u001b[0;31mConnectionRefusedError\u001b[0m                    Traceback (most recent call last)",
      "File \u001b[0;32m~/miniconda3/envs/cloner39/lib/python3.9/site-packages/IPython/core/formatters.py:344\u001b[0m, in \u001b[0;36mBaseFormatter.__call__\u001b[0;34m(self, obj)\u001b[0m\n\u001b[1;32m    342\u001b[0m     method \u001b[39m=\u001b[39m get_real_method(obj, \u001b[39mself\u001b[39m\u001b[39m.\u001b[39mprint_method)\n\u001b[1;32m    343\u001b[0m     \u001b[39mif\u001b[39;00m method \u001b[39mis\u001b[39;00m \u001b[39mnot\u001b[39;00m \u001b[39mNone\u001b[39;00m:\n\u001b[0;32m--> 344\u001b[0m         \u001b[39mreturn\u001b[39;00m method()\n\u001b[1;32m    345\u001b[0m     \u001b[39mreturn\u001b[39;00m \u001b[39mNone\u001b[39;00m\n\u001b[1;32m    346\u001b[0m \u001b[39melse\u001b[39;00m:\n",
      "File \u001b[0;32m~/miniconda3/envs/cloner39/lib/python3.9/site-packages/pyspark/sql/session.py:553\u001b[0m, in \u001b[0;36mSparkSession._repr_html_\u001b[0;34m(self)\u001b[0m\n\u001b[1;32m    546\u001b[0m \u001b[39mdef\u001b[39;00m \u001b[39m_repr_html_\u001b[39m(\u001b[39mself\u001b[39m) \u001b[39m-\u001b[39m\u001b[39m>\u001b[39m \u001b[39mstr\u001b[39m:\n\u001b[1;32m    547\u001b[0m     \u001b[39mreturn\u001b[39;00m \u001b[39m\"\"\"\u001b[39m\n\u001b[1;32m    548\u001b[0m \u001b[39m        <div>\u001b[39m\n\u001b[1;32m    549\u001b[0m \u001b[39m            <p><b>SparkSession - \u001b[39m\u001b[39m{catalogImplementation}\u001b[39;00m\u001b[39m</b></p>\u001b[39m\n\u001b[1;32m    550\u001b[0m \u001b[39m            \u001b[39m\u001b[39m{sc_HTML}\u001b[39;00m\n\u001b[1;32m    551\u001b[0m \u001b[39m        </div>\u001b[39m\n\u001b[1;32m    552\u001b[0m \u001b[39m    \u001b[39m\u001b[39m\"\"\"\u001b[39m\u001b[39m.\u001b[39mformat(\n\u001b[0;32m--> 553\u001b[0m         catalogImplementation\u001b[39m=\u001b[39m\u001b[39mself\u001b[39;49m\u001b[39m.\u001b[39;49mconf\u001b[39m.\u001b[39;49mget(\u001b[39m\"\u001b[39;49m\u001b[39mspark.sql.catalogImplementation\u001b[39;49m\u001b[39m\"\u001b[39;49m),\n\u001b[1;32m    554\u001b[0m         sc_HTML\u001b[39m=\u001b[39m\u001b[39mself\u001b[39m\u001b[39m.\u001b[39msparkContext\u001b[39m.\u001b[39m_repr_html_(),\n\u001b[1;32m    555\u001b[0m     )\n",
      "File \u001b[0;32m~/miniconda3/envs/cloner39/lib/python3.9/site-packages/pyspark/sql/conf.py:61\u001b[0m, in \u001b[0;36mRuntimeConfig.get\u001b[0;34m(self, key, default)\u001b[0m\n\u001b[1;32m     59\u001b[0m \u001b[39mself\u001b[39m\u001b[39m.\u001b[39m_checkType(key, \u001b[39m\"\u001b[39m\u001b[39mkey\u001b[39m\u001b[39m\"\u001b[39m)\n\u001b[1;32m     60\u001b[0m \u001b[39mif\u001b[39;00m default \u001b[39mis\u001b[39;00m _NoValue:\n\u001b[0;32m---> 61\u001b[0m     \u001b[39mreturn\u001b[39;00m \u001b[39mself\u001b[39;49m\u001b[39m.\u001b[39;49m_jconf\u001b[39m.\u001b[39;49mget(key)\n\u001b[1;32m     62\u001b[0m \u001b[39melse\u001b[39;00m:\n\u001b[1;32m     63\u001b[0m     \u001b[39mif\u001b[39;00m default \u001b[39mis\u001b[39;00m \u001b[39mnot\u001b[39;00m \u001b[39mNone\u001b[39;00m:\n",
      "File \u001b[0;32m~/miniconda3/envs/cloner39/lib/python3.9/site-packages/py4j/java_gateway.py:1321\u001b[0m, in \u001b[0;36mJavaMember.__call__\u001b[0;34m(self, *args)\u001b[0m\n\u001b[1;32m   1314\u001b[0m args_command, temp_args \u001b[39m=\u001b[39m \u001b[39mself\u001b[39m\u001b[39m.\u001b[39m_build_args(\u001b[39m*\u001b[39margs)\n\u001b[1;32m   1316\u001b[0m command \u001b[39m=\u001b[39m proto\u001b[39m.\u001b[39mCALL_COMMAND_NAME \u001b[39m+\u001b[39m\\\n\u001b[1;32m   1317\u001b[0m     \u001b[39mself\u001b[39m\u001b[39m.\u001b[39mcommand_header \u001b[39m+\u001b[39m\\\n\u001b[1;32m   1318\u001b[0m     args_command \u001b[39m+\u001b[39m\\\n\u001b[1;32m   1319\u001b[0m     proto\u001b[39m.\u001b[39mEND_COMMAND_PART\n\u001b[0;32m-> 1321\u001b[0m answer \u001b[39m=\u001b[39m \u001b[39mself\u001b[39;49m\u001b[39m.\u001b[39;49mgateway_client\u001b[39m.\u001b[39;49msend_command(command)\n\u001b[1;32m   1322\u001b[0m return_value \u001b[39m=\u001b[39m get_return_value(\n\u001b[1;32m   1323\u001b[0m     answer, \u001b[39mself\u001b[39m\u001b[39m.\u001b[39mgateway_client, \u001b[39mself\u001b[39m\u001b[39m.\u001b[39mtarget_id, \u001b[39mself\u001b[39m\u001b[39m.\u001b[39mname)\n\u001b[1;32m   1325\u001b[0m \u001b[39mfor\u001b[39;00m temp_arg \u001b[39min\u001b[39;00m temp_args:\n",
      "File \u001b[0;32m~/miniconda3/envs/cloner39/lib/python3.9/site-packages/py4j/java_gateway.py:1036\u001b[0m, in \u001b[0;36mGatewayClient.send_command\u001b[0;34m(self, command, retry, binary)\u001b[0m\n\u001b[1;32m   1015\u001b[0m \u001b[39mdef\u001b[39;00m \u001b[39msend_command\u001b[39m(\u001b[39mself\u001b[39m, command, retry\u001b[39m=\u001b[39m\u001b[39mTrue\u001b[39;00m, binary\u001b[39m=\u001b[39m\u001b[39mFalse\u001b[39;00m):\n\u001b[1;32m   1016\u001b[0m \u001b[39m    \u001b[39m\u001b[39m\"\"\"Sends a command to the JVM. This method is not intended to be\u001b[39;00m\n\u001b[1;32m   1017\u001b[0m \u001b[39m       called directly by Py4J users. It is usually called by\u001b[39;00m\n\u001b[1;32m   1018\u001b[0m \u001b[39m       :class:`JavaMember` instances.\u001b[39;00m\n\u001b[0;32m   (...)\u001b[0m\n\u001b[1;32m   1034\u001b[0m \u001b[39m     if `binary` is `True`.\u001b[39;00m\n\u001b[1;32m   1035\u001b[0m \u001b[39m    \"\"\"\u001b[39;00m\n\u001b[0;32m-> 1036\u001b[0m     connection \u001b[39m=\u001b[39m \u001b[39mself\u001b[39;49m\u001b[39m.\u001b[39;49m_get_connection()\n\u001b[1;32m   1037\u001b[0m     \u001b[39mtry\u001b[39;00m:\n\u001b[1;32m   1038\u001b[0m         response \u001b[39m=\u001b[39m connection\u001b[39m.\u001b[39msend_command(command)\n",
      "File \u001b[0;32m~/miniconda3/envs/cloner39/lib/python3.9/site-packages/py4j/clientserver.py:284\u001b[0m, in \u001b[0;36mJavaClient._get_connection\u001b[0;34m(self)\u001b[0m\n\u001b[1;32m    281\u001b[0m     \u001b[39mpass\u001b[39;00m\n\u001b[1;32m    283\u001b[0m \u001b[39mif\u001b[39;00m connection \u001b[39mis\u001b[39;00m \u001b[39mNone\u001b[39;00m \u001b[39mor\u001b[39;00m connection\u001b[39m.\u001b[39msocket \u001b[39mis\u001b[39;00m \u001b[39mNone\u001b[39;00m:\n\u001b[0;32m--> 284\u001b[0m     connection \u001b[39m=\u001b[39m \u001b[39mself\u001b[39;49m\u001b[39m.\u001b[39;49m_create_new_connection()\n\u001b[1;32m    285\u001b[0m \u001b[39mreturn\u001b[39;00m connection\n",
      "File \u001b[0;32m~/miniconda3/envs/cloner39/lib/python3.9/site-packages/py4j/clientserver.py:291\u001b[0m, in \u001b[0;36mJavaClient._create_new_connection\u001b[0;34m(self)\u001b[0m\n\u001b[1;32m    287\u001b[0m \u001b[39mdef\u001b[39;00m \u001b[39m_create_new_connection\u001b[39m(\u001b[39mself\u001b[39m):\n\u001b[1;32m    288\u001b[0m     connection \u001b[39m=\u001b[39m ClientServerConnection(\n\u001b[1;32m    289\u001b[0m         \u001b[39mself\u001b[39m\u001b[39m.\u001b[39mjava_parameters, \u001b[39mself\u001b[39m\u001b[39m.\u001b[39mpython_parameters,\n\u001b[1;32m    290\u001b[0m         \u001b[39mself\u001b[39m\u001b[39m.\u001b[39mgateway_property, \u001b[39mself\u001b[39m)\n\u001b[0;32m--> 291\u001b[0m     connection\u001b[39m.\u001b[39;49mconnect_to_java_server()\n\u001b[1;32m    292\u001b[0m     \u001b[39mself\u001b[39m\u001b[39m.\u001b[39mset_thread_connection(connection)\n\u001b[1;32m    293\u001b[0m     \u001b[39mreturn\u001b[39;00m connection\n",
      "File \u001b[0;32m~/miniconda3/envs/cloner39/lib/python3.9/site-packages/py4j/clientserver.py:438\u001b[0m, in \u001b[0;36mClientServerConnection.connect_to_java_server\u001b[0;34m(self)\u001b[0m\n\u001b[1;32m    435\u001b[0m \u001b[39mif\u001b[39;00m \u001b[39mself\u001b[39m\u001b[39m.\u001b[39mssl_context:\n\u001b[1;32m    436\u001b[0m     \u001b[39mself\u001b[39m\u001b[39m.\u001b[39msocket \u001b[39m=\u001b[39m \u001b[39mself\u001b[39m\u001b[39m.\u001b[39mssl_context\u001b[39m.\u001b[39mwrap_socket(\n\u001b[1;32m    437\u001b[0m         \u001b[39mself\u001b[39m\u001b[39m.\u001b[39msocket, server_hostname\u001b[39m=\u001b[39m\u001b[39mself\u001b[39m\u001b[39m.\u001b[39mjava_address)\n\u001b[0;32m--> 438\u001b[0m \u001b[39mself\u001b[39;49m\u001b[39m.\u001b[39;49msocket\u001b[39m.\u001b[39;49mconnect((\u001b[39mself\u001b[39;49m\u001b[39m.\u001b[39;49mjava_address, \u001b[39mself\u001b[39;49m\u001b[39m.\u001b[39;49mjava_port))\n\u001b[1;32m    439\u001b[0m \u001b[39mself\u001b[39m\u001b[39m.\u001b[39mstream \u001b[39m=\u001b[39m \u001b[39mself\u001b[39m\u001b[39m.\u001b[39msocket\u001b[39m.\u001b[39mmakefile(\u001b[39m\"\u001b[39m\u001b[39mrb\u001b[39m\u001b[39m\"\u001b[39m)\n\u001b[1;32m    440\u001b[0m \u001b[39mself\u001b[39m\u001b[39m.\u001b[39mis_connected \u001b[39m=\u001b[39m \u001b[39mTrue\u001b[39;00m\n",
      "\u001b[0;31mConnectionRefusedError\u001b[0m: [Errno 61] Connection refused"
     ]
    },
    {
     "data": {
      "text/plain": [
       "<pyspark.sql.session.SparkSession at 0x7f9cc0b6c880>"
      ]
     },
     "execution_count": 70,
     "metadata": {},
     "output_type": "execute_result"
    }
   ],
   "source": [
    "spark\n"
   ]
  },
  {
   "cell_type": "code",
   "execution_count": 69,
   "id": "ca5bbb06",
   "metadata": {},
   "outputs": [
    {
     "ename": "ConnectionRefusedError",
     "evalue": "[Errno 61] Connection refused",
     "output_type": "error",
     "traceback": [
      "\u001b[0;31m---------------------------------------------------------------------------\u001b[0m",
      "\u001b[0;31mConnectionRefusedError\u001b[0m                    Traceback (most recent call last)",
      "\u001b[1;32m/Users/vince/protonx-DE/day_5/day_5.ipynb Cell 3\u001b[0m line \u001b[0;36m1\n\u001b[0;32m----> <a href='vscode-notebook-cell:/Users/vince/protonx-DE/day_5/day_5.ipynb#W2sZmlsZQ%3D%3D?line=0'>1</a>\u001b[0m conf \u001b[39m=\u001b[39m SparkConf() \\\n\u001b[1;32m      <a href='vscode-notebook-cell:/Users/vince/protonx-DE/day_5/day_5.ipynb#W2sZmlsZQ%3D%3D?line=1'>2</a>\u001b[0m     \u001b[39m.\u001b[39msetMaster(\u001b[39m\"\u001b[39m\u001b[39mlocal[*]\u001b[39m\u001b[39m\"\u001b[39m) \\\n\u001b[1;32m      <a href='vscode-notebook-cell:/Users/vince/protonx-DE/day_5/day_5.ipynb#W2sZmlsZQ%3D%3D?line=2'>3</a>\u001b[0m     \u001b[39m.\u001b[39msetAppName(\u001b[39m\"\u001b[39m\u001b[39mtest\u001b[39m\u001b[39m\"\u001b[39m) \\\n\u001b[1;32m      <a href='vscode-notebook-cell:/Users/vince/protonx-DE/day_5/day_5.ipynb#W2sZmlsZQ%3D%3D?line=3'>4</a>\u001b[0m     \u001b[39m.\u001b[39mset(\n\u001b[1;32m      <a href='vscode-notebook-cell:/Users/vince/protonx-DE/day_5/day_5.ipynb#W2sZmlsZQ%3D%3D?line=4'>5</a>\u001b[0m         \u001b[39m\"\u001b[39m\u001b[39mspark.jars\u001b[39m\u001b[39m\"\u001b[39m,\n\u001b[1;32m      <a href='vscode-notebook-cell:/Users/vince/protonx-DE/day_5/day_5.ipynb#W2sZmlsZQ%3D%3D?line=5'>6</a>\u001b[0m         \u001b[39m\"\u001b[39m\u001b[39mfile:/Users/vince/protonx-DE/day_5/lib/gcs-connector-hadoop3-latest.jar\u001b[39m\u001b[39m\"\u001b[39m\n\u001b[1;32m      <a href='vscode-notebook-cell:/Users/vince/protonx-DE/day_5/day_5.ipynb#W2sZmlsZQ%3D%3D?line=6'>7</a>\u001b[0m     )\n\u001b[1;32m      <a href='vscode-notebook-cell:/Users/vince/protonx-DE/day_5/day_5.ipynb#W2sZmlsZQ%3D%3D?line=8'>9</a>\u001b[0m spark_ctx \u001b[39m=\u001b[39m SparkContext(conf\u001b[39m=\u001b[39mconf)\u001b[39m.\u001b[39mgetOrCreate()\n\u001b[1;32m     <a href='vscode-notebook-cell:/Users/vince/protonx-DE/day_5/day_5.ipynb#W2sZmlsZQ%3D%3D?line=10'>11</a>\u001b[0m hadoop_conf \u001b[39m=\u001b[39m spark_ctx\u001b[39m.\u001b[39m_jsc\u001b[39m.\u001b[39mhadoopConfiguration()\n",
      "File \u001b[0;32m~/miniconda3/envs/cloner39/lib/python3.9/site-packages/pyspark/conf.py:131\u001b[0m, in \u001b[0;36mSparkConf.__init__\u001b[0;34m(self, loadDefaults, _jvm, _jconf)\u001b[0m\n\u001b[1;32m    127\u001b[0m _jvm \u001b[39m=\u001b[39m _jvm \u001b[39mor\u001b[39;00m SparkContext\u001b[39m.\u001b[39m_jvm\n\u001b[1;32m    129\u001b[0m \u001b[39mif\u001b[39;00m _jvm \u001b[39mis\u001b[39;00m \u001b[39mnot\u001b[39;00m \u001b[39mNone\u001b[39;00m:\n\u001b[1;32m    130\u001b[0m     \u001b[39m# JVM is created, so create self._jconf directly through JVM\u001b[39;00m\n\u001b[0;32m--> 131\u001b[0m     \u001b[39mself\u001b[39m\u001b[39m.\u001b[39m_jconf \u001b[39m=\u001b[39m _jvm\u001b[39m.\u001b[39;49mSparkConf(loadDefaults)\n\u001b[1;32m    132\u001b[0m     \u001b[39mself\u001b[39m\u001b[39m.\u001b[39m_conf \u001b[39m=\u001b[39m \u001b[39mNone\u001b[39;00m\n\u001b[1;32m    133\u001b[0m \u001b[39melse\u001b[39;00m:\n\u001b[1;32m    134\u001b[0m     \u001b[39m# JVM is not created, so store data in self._conf first\u001b[39;00m\n",
      "File \u001b[0;32m~/miniconda3/envs/cloner39/lib/python3.9/site-packages/py4j/java_gateway.py:1712\u001b[0m, in \u001b[0;36mJVMView.__getattr__\u001b[0;34m(self, name)\u001b[0m\n\u001b[1;32m   1709\u001b[0m \u001b[39mif\u001b[39;00m name \u001b[39m==\u001b[39m UserHelpAutoCompletion\u001b[39m.\u001b[39mKEY:\n\u001b[1;32m   1710\u001b[0m     \u001b[39mreturn\u001b[39;00m UserHelpAutoCompletion()\n\u001b[0;32m-> 1712\u001b[0m answer \u001b[39m=\u001b[39m \u001b[39mself\u001b[39;49m\u001b[39m.\u001b[39;49m_gateway_client\u001b[39m.\u001b[39;49msend_command(\n\u001b[1;32m   1713\u001b[0m     proto\u001b[39m.\u001b[39;49mREFLECTION_COMMAND_NAME \u001b[39m+\u001b[39;49m\n\u001b[1;32m   1714\u001b[0m     proto\u001b[39m.\u001b[39;49mREFL_GET_UNKNOWN_SUB_COMMAND_NAME \u001b[39m+\u001b[39;49m name \u001b[39m+\u001b[39;49m \u001b[39m\"\u001b[39;49m\u001b[39m\\n\u001b[39;49;00m\u001b[39m\"\u001b[39;49m \u001b[39m+\u001b[39;49m \u001b[39mself\u001b[39;49m\u001b[39m.\u001b[39;49m_id \u001b[39m+\u001b[39;49m\n\u001b[1;32m   1715\u001b[0m     \u001b[39m\"\u001b[39;49m\u001b[39m\\n\u001b[39;49;00m\u001b[39m\"\u001b[39;49m \u001b[39m+\u001b[39;49m proto\u001b[39m.\u001b[39;49mEND_COMMAND_PART)\n\u001b[1;32m   1716\u001b[0m \u001b[39mif\u001b[39;00m answer \u001b[39m==\u001b[39m proto\u001b[39m.\u001b[39mSUCCESS_PACKAGE:\n\u001b[1;32m   1717\u001b[0m     \u001b[39mreturn\u001b[39;00m JavaPackage(name, \u001b[39mself\u001b[39m\u001b[39m.\u001b[39m_gateway_client, jvm_id\u001b[39m=\u001b[39m\u001b[39mself\u001b[39m\u001b[39m.\u001b[39m_id)\n",
      "File \u001b[0;32m~/miniconda3/envs/cloner39/lib/python3.9/site-packages/py4j/java_gateway.py:1036\u001b[0m, in \u001b[0;36mGatewayClient.send_command\u001b[0;34m(self, command, retry, binary)\u001b[0m\n\u001b[1;32m   1015\u001b[0m \u001b[39mdef\u001b[39;00m \u001b[39msend_command\u001b[39m(\u001b[39mself\u001b[39m, command, retry\u001b[39m=\u001b[39m\u001b[39mTrue\u001b[39;00m, binary\u001b[39m=\u001b[39m\u001b[39mFalse\u001b[39;00m):\n\u001b[1;32m   1016\u001b[0m \u001b[39m    \u001b[39m\u001b[39m\"\"\"Sends a command to the JVM. This method is not intended to be\u001b[39;00m\n\u001b[1;32m   1017\u001b[0m \u001b[39m       called directly by Py4J users. It is usually called by\u001b[39;00m\n\u001b[1;32m   1018\u001b[0m \u001b[39m       :class:`JavaMember` instances.\u001b[39;00m\n\u001b[0;32m   (...)\u001b[0m\n\u001b[1;32m   1034\u001b[0m \u001b[39m     if `binary` is `True`.\u001b[39;00m\n\u001b[1;32m   1035\u001b[0m \u001b[39m    \"\"\"\u001b[39;00m\n\u001b[0;32m-> 1036\u001b[0m     connection \u001b[39m=\u001b[39m \u001b[39mself\u001b[39;49m\u001b[39m.\u001b[39;49m_get_connection()\n\u001b[1;32m   1037\u001b[0m     \u001b[39mtry\u001b[39;00m:\n\u001b[1;32m   1038\u001b[0m         response \u001b[39m=\u001b[39m connection\u001b[39m.\u001b[39msend_command(command)\n",
      "File \u001b[0;32m~/miniconda3/envs/cloner39/lib/python3.9/site-packages/py4j/clientserver.py:284\u001b[0m, in \u001b[0;36mJavaClient._get_connection\u001b[0;34m(self)\u001b[0m\n\u001b[1;32m    281\u001b[0m     \u001b[39mpass\u001b[39;00m\n\u001b[1;32m    283\u001b[0m \u001b[39mif\u001b[39;00m connection \u001b[39mis\u001b[39;00m \u001b[39mNone\u001b[39;00m \u001b[39mor\u001b[39;00m connection\u001b[39m.\u001b[39msocket \u001b[39mis\u001b[39;00m \u001b[39mNone\u001b[39;00m:\n\u001b[0;32m--> 284\u001b[0m     connection \u001b[39m=\u001b[39m \u001b[39mself\u001b[39;49m\u001b[39m.\u001b[39;49m_create_new_connection()\n\u001b[1;32m    285\u001b[0m \u001b[39mreturn\u001b[39;00m connection\n",
      "File \u001b[0;32m~/miniconda3/envs/cloner39/lib/python3.9/site-packages/py4j/clientserver.py:291\u001b[0m, in \u001b[0;36mJavaClient._create_new_connection\u001b[0;34m(self)\u001b[0m\n\u001b[1;32m    287\u001b[0m \u001b[39mdef\u001b[39;00m \u001b[39m_create_new_connection\u001b[39m(\u001b[39mself\u001b[39m):\n\u001b[1;32m    288\u001b[0m     connection \u001b[39m=\u001b[39m ClientServerConnection(\n\u001b[1;32m    289\u001b[0m         \u001b[39mself\u001b[39m\u001b[39m.\u001b[39mjava_parameters, \u001b[39mself\u001b[39m\u001b[39m.\u001b[39mpython_parameters,\n\u001b[1;32m    290\u001b[0m         \u001b[39mself\u001b[39m\u001b[39m.\u001b[39mgateway_property, \u001b[39mself\u001b[39m)\n\u001b[0;32m--> 291\u001b[0m     connection\u001b[39m.\u001b[39;49mconnect_to_java_server()\n\u001b[1;32m    292\u001b[0m     \u001b[39mself\u001b[39m\u001b[39m.\u001b[39mset_thread_connection(connection)\n\u001b[1;32m    293\u001b[0m     \u001b[39mreturn\u001b[39;00m connection\n",
      "File \u001b[0;32m~/miniconda3/envs/cloner39/lib/python3.9/site-packages/py4j/clientserver.py:438\u001b[0m, in \u001b[0;36mClientServerConnection.connect_to_java_server\u001b[0;34m(self)\u001b[0m\n\u001b[1;32m    435\u001b[0m \u001b[39mif\u001b[39;00m \u001b[39mself\u001b[39m\u001b[39m.\u001b[39mssl_context:\n\u001b[1;32m    436\u001b[0m     \u001b[39mself\u001b[39m\u001b[39m.\u001b[39msocket \u001b[39m=\u001b[39m \u001b[39mself\u001b[39m\u001b[39m.\u001b[39mssl_context\u001b[39m.\u001b[39mwrap_socket(\n\u001b[1;32m    437\u001b[0m         \u001b[39mself\u001b[39m\u001b[39m.\u001b[39msocket, server_hostname\u001b[39m=\u001b[39m\u001b[39mself\u001b[39m\u001b[39m.\u001b[39mjava_address)\n\u001b[0;32m--> 438\u001b[0m \u001b[39mself\u001b[39;49m\u001b[39m.\u001b[39;49msocket\u001b[39m.\u001b[39;49mconnect((\u001b[39mself\u001b[39;49m\u001b[39m.\u001b[39;49mjava_address, \u001b[39mself\u001b[39;49m\u001b[39m.\u001b[39;49mjava_port))\n\u001b[1;32m    439\u001b[0m \u001b[39mself\u001b[39m\u001b[39m.\u001b[39mstream \u001b[39m=\u001b[39m \u001b[39mself\u001b[39m\u001b[39m.\u001b[39msocket\u001b[39m.\u001b[39mmakefile(\u001b[39m\"\u001b[39m\u001b[39mrb\u001b[39m\u001b[39m\"\u001b[39m)\n\u001b[1;32m    440\u001b[0m \u001b[39mself\u001b[39m\u001b[39m.\u001b[39mis_connected \u001b[39m=\u001b[39m \u001b[39mTrue\u001b[39;00m\n",
      "\u001b[0;31mConnectionRefusedError\u001b[0m: [Errno 61] Connection refused"
     ]
    }
   ],
   "source": [
    "conf = SparkConf() \\\n",
    "    .setMaster(\"local[*]\") \\\n",
    "    .setAppName(\"test\") \\\n",
    "    .set(\n",
    "        \"spark.jars\",\n",
    "        \"file:/Users/vince/protonx-DE/day_5/lib/gcs-connector-hadoop3-latest.jar\"\n",
    "    )\n",
    "\n",
    "spark_ctx = SparkContext(conf=conf).getOrCreate()\n",
    "\n",
    "hadoop_conf = spark_ctx._jsc.hadoopConfiguration()\n",
    "hadoop_conf.set(\n",
    "    \"fs.AbstractFileSystem.gs.impl\",\n",
    "    \"com.google.cloud.hadoop.fs.gcs.GoogleHadoopFS\"\n",
    ")\n",
    "hadoop_conf.set(\n",
    "    \"fs.gs.impl\",\n",
    "    \"com.google.cloud.hadoop.fs.gcs.GoogleHadoopFileSystem\"\n",
    ")\n",
    "    \n",
    "spark = SparkSession.builder \\\n",
    "    .config(conf=spark_ctx.getConf()) \\\n",
    "    .getOrCreate()"
   ]
  },
  {
   "attachments": {},
   "cell_type": "markdown",
   "id": "940e3097",
   "metadata": {},
   "source": [
    ".master(\"local[*]\").  Nếu chạy local. Dấu * tượng trưng cho ý spark được phép dùng hết tài nguyên của máy ( CPU/RAM ) để xử lý \n",
    "\n",
    ".master(\"yarn\"). Nếu chạy trên cluster YARN\n",
    "\n",
    "\n",
    "Có thể thêm config vào. Một số config để connect với s3\n",
    "\n",
    "  - .config(\"spark.jars\", \"aws-sdk-java-2.17.81.jar\") \n",
    "\n",
    "  - .config(\"spark.hadoop.fs.s3a.impl\", \"org.apache.hadoop.fs.s3a.S3AFileSystem\")\n",
    "  \n",
    "  - .config(\"spark.hadoop.fs.s3a.access.key\", \"<your_access_key_id>\")\n",
    "  \n",
    "  - .config(\"spark.hadoop.fs.s3a.secret.key\", \"<your_secret_access_key>\")"
   ]
  },
  {
   "cell_type": "code",
   "execution_count": 4,
   "id": "a01be8b0",
   "metadata": {},
   "outputs": [
    {
     "name": "stdout",
     "output_type": "stream",
     "text": [
      "23/09/19 21:54:21 WARN Utils: Your hostname, vinces-MBP.local resolves to a loopback address: 127.0.0.1; using 192.168.1.3 instead (on interface en0)\n",
      "23/09/19 21:54:21 WARN Utils: Set SPARK_LOCAL_IP if you need to bind to another address\n",
      "Welcome to\n",
      "      ____              __\n",
      "     / __/__  ___ _____/ /__\n",
      "    _\\ \\/ _ \\/ _ `/ __/  '_/\n",
      "   /___/ .__/\\_,_/_/ /_/\\_\\   version 3.4.1\n",
      "      /_/\n",
      "                        \n",
      "Using Scala version 2.12.17, OpenJDK 64-Bit Server VM, 17.0.2\n",
      "Branch HEAD\n",
      "Compiled by user centos on 2023-06-19T23:01:01Z\n",
      "Revision 6b1ff22dde1ead51cbf370be6e48a802daae58b6\n",
      "Url https://github.com/apache/spark\n",
      "Type --help for more information.\n"
     ]
    }
   ],
   "source": [
    "!pyspark --version and spark-shell --version "
   ]
  },
  {
   "attachments": {},
   "cell_type": "markdown",
   "id": "4ae0954d",
   "metadata": {},
   "source": [
    "# Read File"
   ]
  },
  {
   "cell_type": "code",
   "execution_count": 17,
   "id": "2226d84b",
   "metadata": {},
   "outputs": [],
   "source": [
    "# data_storage = \"gs://aws-review-data/amazon_us_reviews-train-00000-of-00005.parquet\"\n",
    "data_storage = \"./day_5_data/amazon_us_reviews-train-00000-of-00005.parquet\"\n",
    "data_files = [ str(file) for file in Path(\"./day_5_data\").rglob(\"*.parquet\") ]\n",
    "\n",
    "df = spark.read.parquet(*data_files)"
   ]
  },
  {
   "cell_type": "code",
   "execution_count": 18,
   "id": "d44b7839",
   "metadata": {},
   "outputs": [
    {
     "name": "stdout",
     "output_type": "stream",
     "text": [
      "root\n",
      " |-- marketplace: string (nullable = true)\n",
      " |-- customer_id: string (nullable = true)\n",
      " |-- review_id: string (nullable = true)\n",
      " |-- product_id: string (nullable = true)\n",
      " |-- product_parent: string (nullable = true)\n",
      " |-- product_title: string (nullable = true)\n",
      " |-- product_category: string (nullable = true)\n",
      " |-- star_rating: integer (nullable = true)\n",
      " |-- helpful_votes: integer (nullable = true)\n",
      " |-- total_votes: integer (nullable = true)\n",
      " |-- vine: long (nullable = true)\n",
      " |-- verified_purchase: long (nullable = true)\n",
      " |-- review_headline: string (nullable = true)\n",
      " |-- review_body: string (nullable = true)\n",
      " |-- review_date: string (nullable = true)\n",
      "\n"
     ]
    }
   ],
   "source": [
    "df.printSchema()"
   ]
  },
  {
   "cell_type": "code",
   "execution_count": 19,
   "id": "e6496fd0",
   "metadata": {},
   "outputs": [
    {
     "data": {
      "text/plain": [
       "{'type': 'struct',\n",
       " 'fields': [{'name': 'marketplace',\n",
       "   'type': 'string',\n",
       "   'nullable': True,\n",
       "   'metadata': {}},\n",
       "  {'name': 'customer_id', 'type': 'string', 'nullable': True, 'metadata': {}},\n",
       "  {'name': 'review_id', 'type': 'string', 'nullable': True, 'metadata': {}},\n",
       "  {'name': 'product_id', 'type': 'string', 'nullable': True, 'metadata': {}},\n",
       "  {'name': 'product_parent',\n",
       "   'type': 'string',\n",
       "   'nullable': True,\n",
       "   'metadata': {}},\n",
       "  {'name': 'product_title',\n",
       "   'type': 'string',\n",
       "   'nullable': True,\n",
       "   'metadata': {}},\n",
       "  {'name': 'product_category',\n",
       "   'type': 'string',\n",
       "   'nullable': True,\n",
       "   'metadata': {}},\n",
       "  {'name': 'star_rating', 'type': 'integer', 'nullable': True, 'metadata': {}},\n",
       "  {'name': 'helpful_votes',\n",
       "   'type': 'integer',\n",
       "   'nullable': True,\n",
       "   'metadata': {}},\n",
       "  {'name': 'total_votes', 'type': 'integer', 'nullable': True, 'metadata': {}},\n",
       "  {'name': 'vine', 'type': 'long', 'nullable': True, 'metadata': {}},\n",
       "  {'name': 'verified_purchase',\n",
       "   'type': 'long',\n",
       "   'nullable': True,\n",
       "   'metadata': {}},\n",
       "  {'name': 'review_headline',\n",
       "   'type': 'string',\n",
       "   'nullable': True,\n",
       "   'metadata': {}},\n",
       "  {'name': 'review_body', 'type': 'string', 'nullable': True, 'metadata': {}},\n",
       "  {'name': 'review_date', 'type': 'string', 'nullable': True, 'metadata': {}}]}"
      ]
     },
     "execution_count": 19,
     "metadata": {},
     "output_type": "execute_result"
    }
   ],
   "source": [
    "df.schema.jsonValue()"
   ]
  },
  {
   "cell_type": "code",
   "execution_count": 20,
   "id": "ded0c55c",
   "metadata": {},
   "outputs": [
    {
     "name": "stderr",
     "output_type": "stream",
     "text": [
      "                                                                                \r"
     ]
    },
    {
     "name": "stdout",
     "output_type": "stream",
     "text": [
      "+-----------+-----------+--------------+----------+--------------+--------------------+----------------+-----------+-------------+-----------+----+-----------------+---------------+--------------------+-----------+\n",
      "|marketplace|customer_id|     review_id|product_id|product_parent|       product_title|product_category|star_rating|helpful_votes|total_votes|vine|verified_purchase|review_headline|         review_body|review_date|\n",
      "+-----------+-----------+--------------+----------+--------------+--------------------+----------------+-----------+-------------+-----------+----+-----------------+---------------+--------------------+-----------+\n",
      "|         US|   47539447|R1HQ2TY3LSFU0R|B00JA7GSVO|     658880856|Spring Notion Boy...|         Apparel|          4|            0|          0|   0|                1|     Four Stars|Good quality. Rea...| 2014-12-13|\n",
      "|         US|   44940202| R49AHLER1ILGZ|B00JA7GSO6|     658880856|Spring Notion Boy...|         Apparel|          5|            0|          0|   0|                0|     Five Stars|It's very cute an...| 2014-09-10|\n",
      "+-----------+-----------+--------------+----------+--------------+--------------------+----------------+-----------+-------------+-----------+----+-----------------+---------------+--------------------+-----------+\n",
      "only showing top 2 rows\n",
      "\n"
     ]
    }
   ],
   "source": [
    "df.show(2)"
   ]
  },
  {
   "attachments": {},
   "cell_type": "markdown",
   "id": "80f252c1",
   "metadata": {},
   "source": [
    "# Read Spark with Schema"
   ]
  },
  {
   "cell_type": "code",
   "execution_count": 21,
   "id": "16937bfd",
   "metadata": {},
   "outputs": [],
   "source": [
    "from pyspark.sql import types"
   ]
  },
  {
   "cell_type": "code",
   "execution_count": 28,
   "id": "fc61a99a",
   "metadata": {},
   "outputs": [],
   "source": [
    "schema = types.StructType([\n",
    "    types.StructField('marketplace', types.StringType(), True),\n",
    "    types.StructField('customer_id', types.StringType(), True),\n",
    "    types.StructField('review_id', types.StringType(), True),\n",
    "    types.StructField('product_id', types.StringType(), True),\n",
    "    types.StructField('product_parent', types.StringType(), True),\n",
    "    types.StructField('product_category', types.StringType(), True),\n",
    "    types.StructField('star_rating', types.IntegerType(), True),\n",
    "    types.StructField('helpful_votes', types.IntegerType(), True),\n",
    "    types.StructField('total_votes', types.IntegerType(), True),\n",
    "    types.StructField('vine', types.LongType(), True),\n",
    "    types.StructField('verified_purchase', types.LongType(), True),\n",
    "    types.StructField('review_headline', types.StringType(), True),\n",
    "    types.StructField('review_body', types.StringType(), True),\n",
    "    types.StructField('review_date', types.StringType(), True)\n",
    "])"
   ]
  },
  {
   "cell_type": "code",
   "execution_count": 29,
   "id": "f94052ae",
   "metadata": {},
   "outputs": [],
   "source": [
    "df = spark.read \\\n",
    "    .schema(schema) \\\n",
    "    .parquet(data_storage)"
   ]
  },
  {
   "cell_type": "code",
   "execution_count": 30,
   "id": "57ded930",
   "metadata": {},
   "outputs": [
    {
     "name": "stdout",
     "output_type": "stream",
     "text": [
      "+-----------+-----------+--------------+----------+--------------+----------------+-----------+-------------+-----------+----+-----------------+--------------------+--------------------+-----------+\n",
      "|marketplace|customer_id|     review_id|product_id|product_parent|product_category|star_rating|helpful_votes|total_votes|vine|verified_purchase|     review_headline|         review_body|review_date|\n",
      "+-----------+-----------+--------------+----------+--------------+----------------+-----------+-------------+-----------+----+-----------------+--------------------+--------------------+-----------+\n",
      "|         US|   32158956|R1KKOXHNI8MSXU|B01KL6O72Y|      24485154|         Apparel|          4|            0|          0|   0|                1|★ THESE REALLY DO...|These Really Do W...| 2013-01-14|\n",
      "|         US|    2714559|R26SP2OPDK4HT7|B01ID3ZS5W|     363128556|         Apparel|          5|            1|          2|   0|                1|Favorite for wint...|I love this dress...| 2014-03-04|\n",
      "+-----------+-----------+--------------+----------+--------------+----------------+-----------+-------------+-----------+----+-----------------+--------------------+--------------------+-----------+\n",
      "only showing top 2 rows\n",
      "\n"
     ]
    }
   ],
   "source": [
    "df.show(2)"
   ]
  },
  {
   "attachments": {},
   "cell_type": "markdown",
   "id": "eb32cb88",
   "metadata": {},
   "source": [
    "# Làm việc với cột ( columns ) "
   ]
  },
  {
   "cell_type": "code",
   "execution_count": 31,
   "id": "0a14f960",
   "metadata": {},
   "outputs": [],
   "source": [
    "import pyspark.sql.functions as F"
   ]
  },
  {
   "cell_type": "code",
   "execution_count": 32,
   "id": "8293ac10",
   "metadata": {},
   "outputs": [],
   "source": [
    "df = df.withColumn(\n",
    "    'star_rating', df['star_rating'].cast(types.FloatType())) # Transform Col \n",
    "df = df.withColumn(\n",
    "    'review_date', F.to_date(F.col(\"review_date\")))\n",
    "# df.drop('product_parent') # Drop column\n",
    "\n",
    "df = df.withColumnRenamed(\"product_parent\",\"productParent\")"
   ]
  },
  {
   "cell_type": "code",
   "execution_count": 33,
   "id": "5f873f22",
   "metadata": {},
   "outputs": [
    {
     "name": "stderr",
     "output_type": "stream",
     "text": [
      "[Stage 8:>                                                          (0 + 8) / 8]\r"
     ]
    },
    {
     "name": "stdout",
     "output_type": "stream",
     "text": [
      "+-------+-----------------+-------------------+\n",
      "|summary|      star_rating|      productParent|\n",
      "+-------+-----------------+-------------------+\n",
      "|  count|          1440000|            1440000|\n",
      "|   mean|4.035313194444444|4.984089286230021E8|\n",
      "| stddev|1.318571677617217|2.895259558244379E8|\n",
      "|    min|              1.0|          100001307|\n",
      "|    max|              5.0|          999997291|\n",
      "+-------+-----------------+-------------------+\n",
      "\n"
     ]
    },
    {
     "name": "stderr",
     "output_type": "stream",
     "text": [
      "                                                                                \r"
     ]
    }
   ],
   "source": [
    "df.select(\"star_rating\",\"productParent\").describe().show()"
   ]
  },
  {
   "cell_type": "code",
   "execution_count": 34,
   "id": "7eb10f5a",
   "metadata": {},
   "outputs": [
    {
     "name": "stdout",
     "output_type": "stream",
     "text": [
      "root\n",
      " |-- marketplace: string (nullable = true)\n",
      " |-- customer_id: string (nullable = true)\n",
      " |-- review_id: string (nullable = true)\n",
      " |-- product_id: string (nullable = true)\n",
      " |-- productParent: string (nullable = true)\n",
      " |-- product_category: string (nullable = true)\n",
      " |-- star_rating: float (nullable = true)\n",
      " |-- helpful_votes: integer (nullable = true)\n",
      " |-- total_votes: integer (nullable = true)\n",
      " |-- vine: long (nullable = true)\n",
      " |-- verified_purchase: long (nullable = true)\n",
      " |-- review_headline: string (nullable = true)\n",
      " |-- review_body: string (nullable = true)\n",
      " |-- review_date: date (nullable = true)\n",
      "\n"
     ]
    }
   ],
   "source": [
    "df.printSchema()"
   ]
  },
  {
   "attachments": {},
   "cell_type": "markdown",
   "id": "04206d66",
   "metadata": {},
   "source": [
    "# Pyspark và SQL"
   ]
  },
  {
   "attachments": {},
   "cell_type": "markdown",
   "id": "492a9ced",
   "metadata": {},
   "source": [
    "### SELECT"
   ]
  },
  {
   "cell_type": "code",
   "execution_count": 35,
   "id": "038294ca",
   "metadata": {},
   "outputs": [
    {
     "name": "stdout",
     "output_type": "stream",
     "text": [
      "+-----------+-----------+--------------+----------+-------------+----------------+-----------+-------------+-----------+----+-----------------+--------------------+--------------------+-----------+\n",
      "|marketplace|customer_id|     review_id|product_id|productParent|product_category|star_rating|helpful_votes|total_votes|vine|verified_purchase|     review_headline|         review_body|review_date|\n",
      "+-----------+-----------+--------------+----------+-------------+----------------+-----------+-------------+-----------+----+-----------------+--------------------+--------------------+-----------+\n",
      "|         US|   32158956|R1KKOXHNI8MSXU|B01KL6O72Y|     24485154|         Apparel|        4.0|            0|          0|   0|                1|★ THESE REALLY DO...|These Really Do W...| 2013-01-14|\n",
      "+-----------+-----------+--------------+----------+-------------+----------------+-----------+-------------+-----------+----+-----------------+--------------------+--------------------+-----------+\n",
      "only showing top 1 row\n",
      "\n"
     ]
    }
   ],
   "source": [
    "df.select(\"*\").show(1)"
   ]
  },
  {
   "cell_type": "code",
   "execution_count": 39,
   "id": "c270d9d6",
   "metadata": {},
   "outputs": [
    {
     "name": "stdout",
     "output_type": "stream",
     "text": [
      "+-----------+----------+--------------------+-----------+-------------+\n",
      "|customer_id|product_id|     review_headline|star_rating|helpful_votes|\n",
      "+-----------+----------+--------------------+-----------+-------------+\n",
      "|   32158956|B01KL6O72Y|★ THESE REALLY DO...|        4.0|            0|\n",
      "|    2714559|B01ID3ZS5W|Favorite for wint...|        5.0|            1|\n",
      "+-----------+----------+--------------------+-----------+-------------+\n",
      "only showing top 2 rows\n",
      "\n"
     ]
    }
   ],
   "source": [
    "df.select(\n",
    "    \"customer_id\",\n",
    "    \"product_id\",\n",
    "    \"review_headline\",\n",
    "    \"star_rating\",\n",
    "    \"helpful_votes\").show(2)"
   ]
  },
  {
   "cell_type": "code",
   "execution_count": 40,
   "id": "7796c2b2",
   "metadata": {},
   "outputs": [
    {
     "name": "stderr",
     "output_type": "stream",
     "text": [
      "[Stage 20:>                                                         (0 + 8) / 8]\r"
     ]
    },
    {
     "name": "stdout",
     "output_type": "stream",
     "text": [
      "+----------+\n",
      "|product_id|\n",
      "+----------+\n",
      "|B014110CIS|\n",
      "|B013RTQQXK|\n",
      "|B013GVHRZ0|\n",
      "|B012HKN4B2|\n",
      "|B012C86TZW|\n",
      "+----------+\n",
      "only showing top 5 rows\n",
      "\n"
     ]
    },
    {
     "name": "stderr",
     "output_type": "stream",
     "text": [
      "                                                                                \r"
     ]
    }
   ],
   "source": [
    "df.select(\"product_id\").distinct().show(5)"
   ]
  },
  {
   "cell_type": "code",
   "execution_count": 41,
   "id": "d05b2b2d",
   "metadata": {},
   "outputs": [
    {
     "name": "stderr",
     "output_type": "stream",
     "text": [
      "[Stage 23:=====================>                                    (3 + 5) / 8]\r"
     ]
    },
    {
     "name": "stdout",
     "output_type": "stream",
     "text": [
      "+----------+-----------+\n",
      "|product_id|customer_id|\n",
      "+----------+-----------+\n",
      "|B01HDXFZK6|   25482800|\n",
      "|B014EDMV32|   26780399|\n",
      "|B014397P24|     411718|\n",
      "|B013QO8ZVM|   10931103|\n",
      "|B013PU4ZE8|     666985|\n",
      "|B013OTEXCO|   31758998|\n",
      "|B013MB7TO8|    8927659|\n",
      "|B013F5IY0O|   42742751|\n",
      "|B013F4GPD8|   30057578|\n",
      "|B013D6LSC6|     110520|\n",
      "|B0138W9IEU|   11860569|\n",
      "|B0133Y39LQ|   23202878|\n",
      "|B0131W39I8|   31464343|\n",
      "|B0131D4NKU|   21248122|\n",
      "|B012XW6Z1U|   41961605|\n",
      "|B012VO80FE|   21300706|\n",
      "|B012TNCVC0|    1989995|\n",
      "|B012P0CU6Y|    1876472|\n",
      "|B012MADJKS|     138879|\n",
      "|B012M9Y33Q|    1662872|\n",
      "+----------+-----------+\n",
      "only showing top 20 rows\n",
      "\n"
     ]
    },
    {
     "name": "stderr",
     "output_type": "stream",
     "text": [
      "                                                                                \r"
     ]
    }
   ],
   "source": [
    "df.select(\n",
    "    F.col(\"product_id\"),\n",
    "    F.col(\"customer_id\"),\n",
    ").distinct().show()"
   ]
  },
  {
   "attachments": {},
   "cell_type": "markdown",
   "id": "3735dc3b",
   "metadata": {},
   "source": [
    "### WHERE"
   ]
  },
  {
   "cell_type": "code",
   "execution_count": 43,
   "id": "6b8d14ee",
   "metadata": {},
   "outputs": [
    {
     "name": "stdout",
     "output_type": "stream",
     "text": [
      "+-----------+----------+--------------------+-------------+\n",
      "|customer_id|product_id|     review_headline|helpful_votes|\n",
      "+-----------+----------+--------------------+-------------+\n",
      "|    2714559|B01ID3ZS5W|Favorite for wint...|            1|\n",
      "|   12608825|B01I497BGY|Great Socks for t...|            0|\n",
      "|   25482800|B01HDXFZK6|          Slick hat!|            0|\n",
      "|    9310286|B01G6MBEBY|I would do it again!|            0|\n",
      "|   26631939|B01FWRXN0Y|          Five Stars|            0|\n",
      "|   48785098|B01EXNH1HE|            Love it!|            0|\n",
      "|   29355866|B01DXHX81O|          Five Stars|            0|\n",
      "|   17685865|B01BOKOL4A|The Jockey Women'...|            0|\n",
      "|   19787539|B01B3Q4Q0O|          Five Stars|            0|\n",
      "|   44196725|B01ADDSL9U|          Five Stars|            0|\n",
      "|   45510794|B019P1X5XI|best ever4 for me...|            0|\n",
      "|   42025740|B019MDXIXG|          Five Stars|            0|\n",
      "|   27097189|B019438FEG|          Five Stars|            0|\n",
      "|   30225894|B016VIU0QI|   Awesome leggings!|            6|\n",
      "|   27454671|B01694YS8K|        Warm Pajamas|            0|\n",
      "|   13199215|B015OHQNL8|pretty color-thes...|            0|\n",
      "|   13419529|B0151Z12GO|        Summer jeans|            0|\n",
      "|   38675394|B014WCV7JY|          Five Stars|            0|\n",
      "|   22116819|B014MSSP66|          Five Stars|            0|\n",
      "|   47482829|B014M5N1WW|Arrived quickly a...|            0|\n",
      "+-----------+----------+--------------------+-------------+\n",
      "only showing top 20 rows\n",
      "\n"
     ]
    }
   ],
   "source": [
    "df.select(\n",
    "    F.col(\"customer_id\"),\n",
    "    F.col(\"product_id\"),\n",
    "    F.col(\"review_headline\"),\n",
    "    F.col(\"star_rating\"),\n",
    "    F.col(\"helpful_votes\")\n",
    ").filter(\"star_rating >= 5\").show()"
   ]
  },
  {
   "cell_type": "code",
   "execution_count": 82,
   "id": "bd947a3c",
   "metadata": {},
   "outputs": [
    {
     "name": "stderr",
     "output_type": "stream",
     "text": [
      "\r\n",
      "[Stage 42:>                                                         (0 + 1) / 1]\r"
     ]
    },
    {
     "name": "stdout",
     "output_type": "stream",
     "text": [
      "+-----------+----------+--------------------+-----------+-------------+\n",
      "|customer_id|product_id|     review_headline|star_rating|helpful_votes|\n",
      "+-----------+----------+--------------------+-----------+-------------+\n",
      "|   32158956|B01KL6O72Y|★ THESE REALLY DO...|          4|            0|\n",
      "|    2714559|B01ID3ZS5W|Favorite for wint...|          5|            1|\n",
      "|   12608825|B01I497BGY|Great Socks for t...|          5|            0|\n",
      "|   25482800|B01HDXFZK6|          Slick hat!|          5|            0|\n",
      "|    9310286|B01G6MBEBY|I would do it again!|          5|            0|\n",
      "|   26631939|B01FWRXN0Y|          Five Stars|          5|            0|\n",
      "|   48785098|B01EXNH1HE|            Love it!|          5|            0|\n",
      "|   39548589|B01E7OL09O|         Three Stars|          4|            0|\n",
      "|   29355866|B01DXHX81O|          Five Stars|          5|            0|\n",
      "|   17685865|B01BOKOL4A|The Jockey Women'...|          5|            0|\n",
      "|   19787539|B01B3Q4Q0O|          Five Stars|          5|            0|\n",
      "|   44196725|B01ADDSL9U|          Five Stars|          5|            0|\n",
      "|   45510794|B019P1X5XI|best ever4 for me...|          5|            0|\n",
      "|   42025740|B019MDXIXG|          Five Stars|          5|            0|\n",
      "|   27097189|B019438FEG|          Five Stars|          5|            0|\n",
      "|   13808904|B0178HGNIA|          Four Stars|          4|            0|\n",
      "|   30225894|B016VIU0QI|   Awesome leggings!|          5|            6|\n",
      "|   27454671|B01694YS8K|        Warm Pajamas|          5|            0|\n",
      "|   13199215|B015OHQNL8|pretty color-thes...|          5|            0|\n",
      "|   13419529|B0151Z12GO|        Summer jeans|          5|            0|\n",
      "+-----------+----------+--------------------+-----------+-------------+\n",
      "only showing top 20 rows\n",
      "\n"
     ]
    },
    {
     "name": "stderr",
     "output_type": "stream",
     "text": [
      "\r\n",
      "                                                                                \r"
     ]
    }
   ],
   "source": [
    "df.select(\n",
    "    F.col(\"customer_id\"),\n",
    "    F.col(\"product_id\"),\n",
    "    F.col(\"review_headline\"),\n",
    "    F.col(\"star_rating\"),\n",
    "    F.col(\"helpful_votes\")\n",
    ").filter(F.col(\"star_rating\") >= 4).show()"
   ]
  },
  {
   "cell_type": "code",
   "execution_count": 45,
   "id": "ec30532e",
   "metadata": {},
   "outputs": [
    {
     "name": "stdout",
     "output_type": "stream",
     "text": [
      "+-----------+----------+--------------------+-----------+-------------+\n",
      "|customer_id|product_id|     review_headline|star_rating|helpful_votes|\n",
      "+-----------+----------+--------------------+-----------+-------------+\n",
      "|   10090640|B0147UWNUI|   Plus size review!|        5.0|           12|\n",
      "|   43100575|B0145JUDJY|SO Awesome (and a...|        5.0|           13|\n",
      "|     107041|B01411YLLM|    I love this coat|        5.0|           15|\n",
      "|   17162238|B0140UFQKE|This is an extrem...|        5.0|           30|\n",
      "|     453792|B013QTWRAC|          Five Stars|        5.0|           51|\n",
      "|    2089228|B013P4QQVO|            Love it!|        5.0|           29|\n",
      "|     114396|B013P29CBM|Colors look like ...|        5.0|          148|\n",
      "|   51748675|B013OUQEUM|Very beautiful fa...|        4.0|           23|\n",
      "|   52045345|B013OUQ8PS|Flowy design adds...|        4.0|           11|\n",
      "|   20036398|B013LFUL8G|Quality product-E...|        5.0|           16|\n",
      "|   50038974|B013KVV1NA|Cute hoodie made ...|        5.0|          136|\n",
      "|   52045345|B013JM0NKM|Love this unique ...|        5.0|           19|\n",
      "|   16350511|B013JF9EXQ|... to expect but...|        5.0|           19|\n",
      "|   44724303|B013HLP2WO| OMG OMG ITS PERFECT|        5.0|           32|\n",
      "|   21646689|B013H3RO00|Great hankerchief...|        5.0|           57|\n",
      "|     115649|B013GAF6OA|           Romantic!|        5.0|           17|\n",
      "|     233340|B013G13POW|This dress is gor...|        5.0|           13|\n",
      "|   14885085|B013FLBMOS|AMAZING accessory...|        5.0|           21|\n",
      "|   15208638|B013DPW0NS|         Cute Romper|        4.0|           19|\n",
      "|     148434|B013D0CG4G|and in very good ...|        5.0|           12|\n",
      "+-----------+----------+--------------------+-----------+-------------+\n",
      "only showing top 20 rows\n",
      "\n"
     ]
    }
   ],
   "source": [
    "condition = (F.col(\"star_rating\") >= 4) & (F.col(\"helpful_votes\") > 10)\n",
    "\n",
    "df.select(\n",
    "    F.col(\"customer_id\"),\n",
    "    F.col(\"product_id\"),\n",
    "    F.col(\"review_headline\"),\n",
    "    F.col(\"star_rating\"),\n",
    "    F.col(\"helpful_votes\")\n",
    ").filter(condition).show()"
   ]
  },
  {
   "attachments": {},
   "cell_type": "markdown",
   "id": "5724cb7f",
   "metadata": {},
   "source": [
    "### ORDER BY"
   ]
  },
  {
   "cell_type": "code",
   "execution_count": 46,
   "id": "72600b8a",
   "metadata": {},
   "outputs": [
    {
     "name": "stderr",
     "output_type": "stream",
     "text": [
      "[Stage 29:>                                                         (0 + 8) / 8]\r"
     ]
    },
    {
     "name": "stdout",
     "output_type": "stream",
     "text": [
      "+-----------+----------+--------------------+-----------+-------------+\n",
      "|customer_id|product_id|     review_headline|star_rating|helpful_votes|\n",
      "+-----------+----------+--------------------+-----------+-------------+\n",
      "|   23621953|B00K0A8AB6|          Four Stars|        4.0|            0|\n",
      "|   49337986|B00KU3CXJS|          Four Stars|        4.0|            0|\n",
      "|      18254|B00QWCGFSQ|          Four Stars|        4.0|            0|\n",
      "|   13226943|B00KU2I9FG|      Cute and Sexy!|        4.0|            8|\n",
      "|   11058879|B00OLHIW8U|          Four Stars|        4.0|            0|\n",
      "|   28966347|B00KU3BKJW|          Four Stars|        4.0|            0|\n",
      "|   10822606|B00QWAOF5S|          Four Stars|        4.0|            0|\n",
      "|   10867285|B00KU2WEMU|          Four Stars|        4.0|            0|\n",
      "|    2426550|B00N53FLK8|Beautiful and war...|        4.0|            4|\n",
      "|   39561738|B00KU2I9VU|Great lift, paddi...|        4.0|            0|\n",
      "|   50240384|B00QWBKLAA|This is really cu...|        4.0|            0|\n",
      "|   20802921|B00KU2SI84|              Empire|        4.0|            0|\n",
      "|    7231775|B00OLHFPJY|             Awesome|        4.0|            0|\n",
      "|   17240036|B00KU3ED5U|In storage until ...|        4.0|            0|\n",
      "|    6533528|B00QWB1OTM|          Four Stars|        4.0|            0|\n",
      "|   48223875|B00KU2IEWE|I got the zebra p...|        4.0|            0|\n",
      "|   14062358|B00UGYVNJM|Loved the shirt b...|        4.0|            1|\n",
      "|   10867285|B00KU3EBFM|          Four Stars|        4.0|            0|\n",
      "|   45587261|B00QWB1OTM|            Perfect.|        4.0|            0|\n",
      "|   32731593|B00KU2IBS6|Smaller than expe...|        4.0|            0|\n",
      "+-----------+----------+--------------------+-----------+-------------+\n",
      "only showing top 20 rows\n",
      "\n"
     ]
    },
    {
     "name": "stderr",
     "output_type": "stream",
     "text": [
      "                                                                                \r"
     ]
    }
   ],
   "source": [
    "df.select(\n",
    "    F.col(\"customer_id\"),\n",
    "    F.col(\"product_id\"),\n",
    "    F.col(\"review_headline\"),\n",
    "    F.col(\"star_rating\"),\n",
    "    F.col(\"helpful_votes\")\n",
    ").filter(F.col(\"star_rating\") >= 4).orderBy(\"star_rating\").show()"
   ]
  },
  {
   "cell_type": "code",
   "execution_count": 47,
   "id": "20826870",
   "metadata": {},
   "outputs": [
    {
     "name": "stderr",
     "output_type": "stream",
     "text": [
      "[Stage 30:>                                                         (0 + 8) / 8]\r"
     ]
    },
    {
     "name": "stdout",
     "output_type": "stream",
     "text": [
      "+-----------+----------+--------------------+-----------+-------------+\n",
      "|customer_id|product_id|     review_headline|star_rating|helpful_votes|\n",
      "+-----------+----------+--------------------+-----------+-------------+\n",
      "|   30740886|B014WBIGKI|but is a nice swe...|        4.0|            0|\n",
      "|   11058879|B00OLHIW8U|          Four Stars|        4.0|            0|\n",
      "|   49337986|B00KU3CXJS|          Four Stars|        4.0|            0|\n",
      "|    7231775|B00OLHFPJY|             Awesome|        4.0|            0|\n",
      "|      18254|B00QWCGFSQ|          Four Stars|        4.0|            0|\n",
      "|   41233109|B00OLHIRBW|            Torn....|        4.0|            0|\n",
      "|   13226943|B00KU2I9FG|      Cute and Sexy!|        4.0|            8|\n",
      "|   36429969|B00OLHOZX6|                Good|        4.0|            0|\n",
      "|    2426550|B00N53FLK8|Beautiful and war...|        4.0|            4|\n",
      "|     113492|B00OLHIQH2|          Four Stars|        4.0|            0|\n",
      "|   28966347|B00KU3BKJW|          Four Stars|        4.0|            0|\n",
      "|   23337866|B00OLHJJKA|Overall I was hap...|        4.0|            0|\n",
      "|   10822606|B00QWAOF5S|          Four Stars|        4.0|            0|\n",
      "|     484564|B00OLHIOIS|          Four Stars|        4.0|            0|\n",
      "|   10867285|B00KU2WEMU|          Four Stars|        4.0|            0|\n",
      "|   33393871|B00OLHI97E|it fit as expecte...|        4.0|            0|\n",
      "|   14062358|B00UGYVNJM|Loved the shirt b...|        4.0|            1|\n",
      "|   21877687|B00OLHHXNU|          Four Stars|        4.0|            0|\n",
      "|   39561738|B00KU2I9VU|Great lift, paddi...|        4.0|            0|\n",
      "|   35205008|B00OLHJFRW|I love it after I...|        4.0|            0|\n",
      "+-----------+----------+--------------------+-----------+-------------+\n",
      "only showing top 20 rows\n",
      "\n"
     ]
    },
    {
     "name": "stderr",
     "output_type": "stream",
     "text": [
      "                                                                                \r"
     ]
    }
   ],
   "source": [
    "df.select(\n",
    "    F.col(\"customer_id\"),\n",
    "    F.col(\"product_id\"),\n",
    "    F.col(\"review_headline\"),\n",
    "    F.col(\"star_rating\"),\n",
    "    F.col(\"helpful_votes\")\n",
    ").filter(F.col(\"star_rating\") >= 4).sort(\"star_rating\").show()"
   ]
  },
  {
   "cell_type": "code",
   "execution_count": 48,
   "id": "0b7ea0d5",
   "metadata": {},
   "outputs": [
    {
     "name": "stderr",
     "output_type": "stream",
     "text": [
      "[Stage 31:>                                                         (0 + 8) / 8]\r"
     ]
    },
    {
     "name": "stdout",
     "output_type": "stream",
     "text": [
      "+-----------+----------+--------------------+-----------+-------------+\n",
      "|customer_id|product_id|     review_headline|star_rating|helpful_votes|\n",
      "+-----------+----------+--------------------+-----------+-------------+\n",
      "|   13117898|B00K0A8AB6|Cute gift for lit...|        5.0|            0|\n",
      "|   29182724|B00UH0X10E|          Five Stars|        5.0|            0|\n",
      "|   22116819|B014MSSP66|          Five Stars|        5.0|            0|\n",
      "|   22787620|B00UGYOA4C|          Five Stars|        5.0|            0|\n",
      "|   17366243|B00OLHIZXW|... return to get...|        5.0|            0|\n",
      "|   43848429|B00UH0GQOM|          Five Stars|        5.0|            0|\n",
      "|     643748|B014E1C364|          Five Stars|        5.0|            0|\n",
      "|   12285020|B00UH4P1SA|          Five Stars|        5.0|            0|\n",
      "|    3377581|B00QWCWO5Y|          Five Stars|        5.0|            0|\n",
      "|   31431851|B00UGZ3ZF6|Great shirt! Very...|        5.0|            0|\n",
      "|   47482829|B014M5N1WW|Arrived quickly a...|        5.0|            0|\n",
      "|    2736592|B00UH4OOM4|           WONDERFUL|        5.0|            1|\n",
      "|   46612300|B00OLHFPN0|          Five Stars|        5.0|            0|\n",
      "|   15741998|B00UGZ3ITE|          Five Stars|        5.0|            0|\n",
      "|    2714559|B01ID3ZS5W|Favorite for wint...|        5.0|            1|\n",
      "|   11086614|B00UH4OOM4|... them for the ...|        5.0|            2|\n",
      "|   13024608|B00N53FLQC|          Five Stars|        5.0|            0|\n",
      "|   37177789|B00UGZ16E8|          Five Stars|        5.0|            0|\n",
      "|    4105777|B014L79H8I|          Great Gift|        5.0|            0|\n",
      "|     120596|B00UH4OOM4|Exactly what I wa...|        5.0|            0|\n",
      "+-----------+----------+--------------------+-----------+-------------+\n",
      "only showing top 20 rows\n",
      "\n"
     ]
    },
    {
     "name": "stderr",
     "output_type": "stream",
     "text": [
      "                                                                                \r"
     ]
    }
   ],
   "source": [
    "( \n",
    "    df.select(\n",
    "            F.col(\"customer_id\"),\n",
    "            F.col(\"product_id\"),\n",
    "            F.col(\"review_headline\"),\n",
    "            F.col(\"star_rating\"),\n",
    "            F.col(\"helpful_votes\"))\n",
    "        .filter(F.col(\"star_rating\") >= 4)\n",
    "        .sort(\n",
    "            F.col(\"star_rating\").desc()\n",
    "        ).show()\n",
    ")"
   ]
  },
  {
   "cell_type": "code",
   "execution_count": 95,
   "id": "71668d8a",
   "metadata": {},
   "outputs": [
    {
     "name": "stderr",
     "output_type": "stream",
     "text": [
      "[Stage 52:=============================>                            (1 + 1) / 2]\r"
     ]
    },
    {
     "name": "stdout",
     "output_type": "stream",
     "text": [
      "+-----------+----------+--------------------+-----------+-------------+\n",
      "|customer_id|product_id|     review_headline|star_rating|helpful_votes|\n",
      "+-----------+----------+--------------------+-----------+-------------+\n",
      "|   22116819|B014MSSP66|          Five Stars|        5.0|            0|\n",
      "|     643748|B014E1C364|          Five Stars|        5.0|            0|\n",
      "|   47482829|B014M5N1WW|Arrived quickly a...|        5.0|            0|\n",
      "|    2714559|B01ID3ZS5W|Favorite for wint...|        5.0|            1|\n",
      "|    4105777|B014L79H8I|          Great Gift|        5.0|            0|\n",
      "|   25482800|B01HDXFZK6|          Slick hat!|        5.0|            0|\n",
      "|     502031|B014K9ETKS|          Five Stars|        5.0|            3|\n",
      "|   26631939|B01FWRXN0Y|          Five Stars|        5.0|            0|\n",
      "|   44617615|B014K3PHXW|          Five Stars|        5.0|            0|\n",
      "|   46404187|B014K01GSU|Excellent RFID Wa...|        5.0|            0|\n",
      "|   26780399|B014EDMV32|            Love it!|        5.0|            3|\n",
      "|   10927125|B014K01GSU|Roomy and soft to...|        5.0|            1|\n",
      "|   19787539|B01B3Q4Q0O|          Five Stars|        5.0|            0|\n",
      "|    4068446|B014JZXVX4|        Loves it!!!!|        5.0|            0|\n",
      "|   45510794|B019P1X5XI|best ever4 for me...|        5.0|            0|\n",
      "|   11758828|B014JX6JZS|          Five Stars|        5.0|            0|\n",
      "|   27097189|B019438FEG|          Five Stars|        5.0|            0|\n",
      "|   13199215|B015OHQNL8|pretty color-thes...|        5.0|            0|\n",
      "|   13419529|B0151Z12GO|        Summer jeans|        5.0|            0|\n",
      "|   38675394|B014WCV7JY|          Five Stars|        5.0|            0|\n",
      "+-----------+----------+--------------------+-----------+-------------+\n",
      "only showing top 20 rows\n",
      "\n"
     ]
    },
    {
     "name": "stderr",
     "output_type": "stream",
     "text": [
      "\r\n",
      "                                                                                \r"
     ]
    }
   ],
   "source": [
    "( \n",
    "    df.select(\n",
    "            F.col(\"customer_id\"),\n",
    "            F.col(\"product_id\"),\n",
    "            F.col(\"review_headline\"),\n",
    "            F.col(\"star_rating\"),\n",
    "            F.col(\"helpful_votes\"))\n",
    "        .filter(F.col(\"star_rating\") >= 4)\n",
    "        .sort(\n",
    "            F.desc(\"star_rating\") \n",
    "        ).show()\n",
    ")"
   ]
  },
  {
   "attachments": {},
   "cell_type": "markdown",
   "id": "2eb1743d",
   "metadata": {},
   "source": [
    "###  Limit "
   ]
  },
  {
   "cell_type": "code",
   "execution_count": 86,
   "id": "e28d2e52",
   "metadata": {},
   "outputs": [
    {
     "name": "stderr",
     "output_type": "stream",
     "text": [
      "[Stage 45:=============================>                            (1 + 1) / 2]\r"
     ]
    },
    {
     "name": "stdout",
     "output_type": "stream",
     "text": [
      "+-----------+----------+--------------------+-----------+-------------+\n",
      "|customer_id|product_id|     review_headline|star_rating|helpful_votes|\n",
      "+-----------+----------+--------------------+-----------+-------------+\n",
      "|    2714559|B01ID3ZS5W|Favorite for wint...|          5|            1|\n",
      "+-----------+----------+--------------------+-----------+-------------+\n",
      "\n"
     ]
    },
    {
     "name": "stderr",
     "output_type": "stream",
     "text": [
      "\r\n",
      "                                                                                \r"
     ]
    }
   ],
   "source": [
    "( \n",
    "    df.select(\n",
    "            F.col(\"customer_id\"),\n",
    "            F.col(\"product_id\"),\n",
    "            F.col(\"review_headline\"),\n",
    "            F.col(\"star_rating\"),\n",
    "            F.col(\"helpful_votes\"))\n",
    "        .filter(F.col(\"star_rating\") >= 4)\n",
    "        .sort(\n",
    "            F.col(\"star_rating\").desc()\n",
    "        )\n",
    "        .limit(1)\n",
    "        .show()\n",
    ")"
   ]
  },
  {
   "attachments": {},
   "cell_type": "markdown",
   "id": "fd6d28e6",
   "metadata": {},
   "source": [
    "### GROUP BY "
   ]
  },
  {
   "cell_type": "code",
   "execution_count": 53,
   "id": "5681b4ed",
   "metadata": {},
   "outputs": [
    {
     "name": "stderr",
     "output_type": "stream",
     "text": [
      "[Stage 38:>                                                         (0 + 8) / 8]\r"
     ]
    },
    {
     "name": "stdout",
     "output_type": "stream",
     "text": [
      "+----------+----------------+------------------+\n",
      "|product_id|avg(star_rating)|avg(helpful_votes)|\n",
      "+----------+----------------+------------------+\n",
      "|B014110CIS|             2.0|               0.0|\n",
      "|B013RTQQXK|             5.0|               0.0|\n",
      "|B013GVHRZ0|             3.0|               0.0|\n",
      "|B012HKN4B2|             3.0|               1.0|\n",
      "|B012C86TZW|             5.0|               0.0|\n",
      "|B012698SU6|             5.0|               2.0|\n",
      "|B0120RNKE8|             3.0|               1.0|\n",
      "|B0120OP7NI|             5.0|               0.0|\n",
      "|B011XDAW3W|             3.0|               0.0|\n",
      "|B011WELXAI|             5.0|               0.0|\n",
      "|B011PJXIE4|             5.0|               0.0|\n",
      "|B011NNTFDK|             1.0|               0.0|\n",
      "|B011NF7YUY|             5.0|               2.0|\n",
      "|B011M97GR2|             5.0|               0.0|\n",
      "|B011M5NSZ0|             5.0|               7.0|\n",
      "|B011JG86VI|             5.0|               0.0|\n",
      "|B011J5WPBQ|             5.0|               5.0|\n",
      "|B011IF6G3K|             5.0|               0.0|\n",
      "|B011HWM0GQ|             3.0|               0.0|\n",
      "|B011FERJM6|             4.0|               0.0|\n",
      "+----------+----------------+------------------+\n",
      "only showing top 20 rows\n",
      "\n"
     ]
    },
    {
     "name": "stderr",
     "output_type": "stream",
     "text": [
      "                                                                                \r"
     ]
    }
   ],
   "source": [
    "( \n",
    "    df.select(\n",
    "            F.col(\"product_id\"),\n",
    "            F.col(\"star_rating\"),\n",
    "            F.col(\"helpful_votes\")\n",
    "    )\n",
    "    .groupBy(\"product_id\")\n",
    "    .mean()\n",
    "    .show()\n",
    ")"
   ]
  },
  {
   "cell_type": "code",
   "execution_count": 99,
   "id": "a8b921d0",
   "metadata": {},
   "outputs": [
    {
     "name": "stderr",
     "output_type": "stream",
     "text": [
      "[Stage 59:=============================>                            (1 + 1) / 2]\r"
     ]
    },
    {
     "name": "stdout",
     "output_type": "stream",
     "text": [
      "+----------+----------------+------------------+\n",
      "|product_id|avg(star_rating)|avg(helpful_votes)|\n",
      "+----------+----------------+------------------+\n",
      "|B014110CIS|             2.0|               0.0|\n",
      "|B013RTQQXK|             5.0|               0.0|\n",
      "|B013GVHRZ0|             3.0|               0.0|\n",
      "|B012HKN4B2|             3.0|               1.0|\n",
      "|B012C86TZW|             5.0|               0.0|\n",
      "|B012698SU6|             5.0|               2.0|\n",
      "|B0120RNKE8|             3.0|               1.0|\n",
      "|B0120OP7NI|             5.0|               0.0|\n",
      "|B011XDAW3W|             3.0|               0.0|\n",
      "|B011WELXAI|             5.0|               0.0|\n",
      "|B011PJXIE4|             5.0|               0.0|\n",
      "|B011NNTFDK|             1.0|               0.0|\n",
      "|B011NF7YUY|             5.0|               2.0|\n",
      "|B011M97GR2|             5.0|               0.0|\n",
      "|B011M5NSZ0|             5.0|               7.0|\n",
      "|B011JG86VI|             5.0|               0.0|\n",
      "|B011J5WPBQ|             5.0|               5.0|\n",
      "|B011IF6G3K|             5.0|               0.0|\n",
      "|B011HWM0GQ|             3.0|               0.0|\n",
      "|B011FERJM6|             4.0|               0.0|\n",
      "+----------+----------------+------------------+\n",
      "only showing top 20 rows\n",
      "\n"
     ]
    },
    {
     "name": "stderr",
     "output_type": "stream",
     "text": [
      "\r\n",
      "[Stage 61:>                                                         (0 + 1) / 1]\r\n",
      "\r\n",
      "                                                                                \r"
     ]
    }
   ],
   "source": [
    "( \n",
    "    df.select(\n",
    "            F.col(\"product_id\"),\n",
    "            F.col(\"review_headline\"),\n",
    "            F.col(\"star_rating\"),\n",
    "            F.col(\"helpful_votes\")\n",
    "        )\n",
    "        .groupBy(\"product_id\")\n",
    "        .mean()\n",
    "        .show()\n",
    ")"
   ]
  },
  {
   "cell_type": "code",
   "execution_count": 54,
   "id": "e10d453b",
   "metadata": {},
   "outputs": [
    {
     "name": "stderr",
     "output_type": "stream",
     "text": [
      "[Stage 41:=======>                                                  (1 + 7) / 8]\r"
     ]
    },
    {
     "name": "stdout",
     "output_type": "stream",
     "text": [
      "+----------+---------------+-----------------+\n",
      "|product_id|min_star_rating|max_helpful_votes|\n",
      "+----------+---------------+-----------------+\n",
      "|B014110CIS|            2.0|                0|\n",
      "|B013RTQQXK|            5.0|                0|\n",
      "|B013GVHRZ0|            3.0|                0|\n",
      "|B012HKN4B2|            3.0|                1|\n",
      "|B012C86TZW|            5.0|                0|\n",
      "|B012698SU6|            5.0|                3|\n",
      "|B0120RNKE8|            3.0|                1|\n",
      "|B0120OP7NI|            5.0|                0|\n",
      "|B011XDAW3W|            3.0|                0|\n",
      "|B011WELXAI|            5.0|                0|\n",
      "|B011PJXIE4|            5.0|                0|\n",
      "|B011NNTFDK|            1.0|                0|\n",
      "|B011NF7YUY|            5.0|                2|\n",
      "|B011M97GR2|            5.0|                0|\n",
      "|B011M5NSZ0|            5.0|                7|\n",
      "|B011JG86VI|            5.0|                0|\n",
      "|B011J5WPBQ|            5.0|                5|\n",
      "|B011IF6G3K|            5.0|                0|\n",
      "|B011HWM0GQ|            2.0|                0|\n",
      "|B011FERJM6|            4.0|                0|\n",
      "+----------+---------------+-----------------+\n",
      "only showing top 20 rows\n",
      "\n"
     ]
    },
    {
     "name": "stderr",
     "output_type": "stream",
     "text": [
      "                                                                                \r"
     ]
    }
   ],
   "source": [
    "( \n",
    "    df.select(\n",
    "            F.col(\"product_id\"),\n",
    "            F.col(\"review_headline\"),\n",
    "            F.col(\"star_rating\"),\n",
    "            F.col(\"helpful_votes\")\n",
    "        )\n",
    "        .groupBy(\"product_id\")\n",
    "        .agg(\n",
    "            F.min(\"star_rating\").alias(\"min_star_rating\"),\n",
    "            F.max(\"helpful_votes\").alias(\"max_helpful_votes\")\n",
    "        )\n",
    "        .show()\n",
    ")"
   ]
  },
  {
   "attachments": {},
   "cell_type": "markdown",
   "id": "c0e11db8",
   "metadata": {},
   "source": [
    "# User Define Function ( UDF )"
   ]
  },
  {
   "cell_type": "code",
   "execution_count": 55,
   "id": "9bb5d503",
   "metadata": {},
   "outputs": [],
   "source": [
    "def convert_case(string):\n",
    "    return string.upper()\n",
    "\n",
    "convert_case_udf = F.udf(convert_case, returnType=types.StringType())"
   ]
  },
  {
   "cell_type": "code",
   "execution_count": 57,
   "id": "b38f0465",
   "metadata": {
    "scrolled": true
   },
   "outputs": [
    {
     "name": "stdout",
     "output_type": "stream",
     "text": [
      "+-------------------------+--------------------+\n",
      "|review_headline_uppercase|     review_headline|\n",
      "+-------------------------+--------------------+\n",
      "|     ★ THESE REALLY DO...|★ THESE REALLY DO...|\n",
      "|     FAVORITE FOR WINT...|Favorite for wint...|\n",
      "|     GREAT SOCKS FOR T...|Great Socks for t...|\n",
      "|               SLICK HAT!|          Slick hat!|\n",
      "|     I WOULD DO IT AGAIN!|I would do it again!|\n",
      "|               FIVE STARS|          Five Stars|\n",
      "|                 LOVE IT!|            Love it!|\n",
      "|              THREE STARS|         Three Stars|\n",
      "|               FIVE STARS|          Five Stars|\n",
      "|         NOT MY FAVORITE.|    Not my favorite.|\n",
      "|     THE JOCKEY WOMEN'...|The Jockey Women'...|\n",
      "|               FIVE STARS|          Five Stars|\n",
      "|               FIVE STARS|          Five Stars|\n",
      "|     BEST EVER4 FOR ME...|best ever4 for me...|\n",
      "|               FIVE STARS|          Five Stars|\n",
      "|               FIVE STARS|          Five Stars|\n",
      "|               FOUR STARS|          Four Stars|\n",
      "|        AWESOME LEGGINGS!|   Awesome leggings!|\n",
      "|     SIZES NOT CORRECT...|Sizes not correct...|\n",
      "|                 ONE STAR|            One Star|\n",
      "+-------------------------+--------------------+\n",
      "only showing top 20 rows\n",
      "\n"
     ]
    }
   ],
   "source": [
    "( \n",
    "    df\n",
    "    .withColumn('review_headline_uppercase', convert_case_udf(F.col(\"review_headline\")))\n",
    "    .select('review_headline_uppercase','review_headline') \n",
    "    .show()\n",
    ")"
   ]
  },
  {
   "attachments": {},
   "cell_type": "markdown",
   "id": "fdbfa926",
   "metadata": {},
   "source": [
    "# Spark SQL"
   ]
  },
  {
   "cell_type": "code",
   "execution_count": 59,
   "id": "7a6a4d5a",
   "metadata": {},
   "outputs": [],
   "source": [
    "df.createOrReplaceTempView(\"df\")\n",
    "# df.registerTempTable(\"df\")"
   ]
  },
  {
   "cell_type": "code",
   "execution_count": 117,
   "id": "1fb5666d",
   "metadata": {
    "scrolled": true
   },
   "outputs": [
    {
     "name": "stderr",
     "output_type": "stream",
     "text": [
      "\r\n",
      "[Stage 71:>                                                         (0 + 1) / 1]\r"
     ]
    },
    {
     "name": "stdout",
     "output_type": "stream",
     "text": [
      "+-----------+-----------+--------------+----------+-------------+----------------+-----------+-------------+-----------+----+-----------------+--------------------+--------------------+-----------+\n",
      "|marketplace|customer_id|     review_id|product_id|productParent|product_category|star_rating|helpful_votes|total_votes|vine|verified_purchase|     review_headline|         review_body|review_date|\n",
      "+-----------+-----------+--------------+----------+-------------+----------------+-----------+-------------+-----------+----+-----------------+--------------------+--------------------+-----------+\n",
      "|         US|   32158956|R1KKOXHNI8MSXU|B01KL6O72Y|     24485154|         Apparel|        4.0|            0|          0|   0|                1|★ THESE REALLY DO...|These Really Do W...| 2013-01-14|\n",
      "|         US|    2714559|R26SP2OPDK4HT7|B01ID3ZS5W|    363128556|         Apparel|        5.0|            1|          2|   0|                1|Favorite for wint...|I love this dress...| 2014-03-04|\n",
      "|         US|   12608825| RWQEDYAX373I1|B01I497BGY|    811958549|         Apparel|        5.0|            0|          0|   0|                1|Great Socks for t...|Nice socks, great...| 2015-07-12|\n",
      "|         US|   25482800|R231YI7R4GPF6J|B01HDXFZK6|    692205728|         Apparel|        5.0|            0|          0|   0|                1|          Slick hat!|I bought this for...| 2015-06-03|\n",
      "|         US|    9310286|R3KO3W45DD0L1K|B01G6MBEBY|    431150422|         Apparel|        5.0|            0|          0|   0|                1|I would do it again!|Perfect dress and...| 2015-06-12|\n",
      "|         US|   26631939|R1C4QH63NFL5NJ|B01FWRXN0Y|    366144407|         Apparel|        5.0|            0|          0|   0|                1|          Five Stars|Excellent for my ...| 2014-04-22|\n",
      "|         US|   48785098|R2GP65O1U9N7BP|B01EXNH1HE|    786052021|         Apparel|        5.0|            0|          0|   0|                1|            Love it!|Raw is the only w...| 2015-07-28|\n",
      "|         US|   39548589|R3O29CT5MQQ3XQ|B01E7OL09O|    108920964|         Apparel|        4.0|            0|          0|   0|                1|         Three Stars|        A bit large.| 2015-07-10|\n",
      "|         US|   29355866|R1ZECD2AA8QFF6|B01DXHX81O|    317132458|         Apparel|        5.0|            0|          0|   0|                1|          Five Stars|          Great fit!| 2015-08-09|\n",
      "|         US|   27477484|R2S79GCF6J89OA|B01DDULIJK|    110598191|         Apparel|        3.0|            0|          0|   0|                1|    Not my favorite.|Shirt a bit too l...| 2014-05-24|\n",
      "|         US|   17685865|R1CBCUGNP37MPK|B01BOKOL4A|    121408017|         Apparel|        5.0|            0|          0|   0|                1|The Jockey Women'...|The Jockey Women'...| 2015-06-10|\n",
      "|         US|   19787539|R3NU4WUR5ZNV1V|B01B3Q4Q0O|    134506082|         Apparel|        5.0|            0|          0|   0|                1|          Five Stars|cup size is just ...| 2013-09-06|\n",
      "|         US|   44196725|R32EPCJ3XF8LGE|B01ADDSL9U|    747539045|         Apparel|        5.0|            0|          0|   0|                1|          Five Stars|          Perfect...| 2014-11-17|\n",
      "|         US|   45510794|R1XIBC6WQBW31M|B019P1X5XI|    696379847|         Apparel|        5.0|            0|          0|   0|                1|best ever4 for me...|best  ever4 for m...| 2013-05-12|\n",
      "|         US|   42025740|R1P11MVDZ65LMH|B019MDXIXG|    387286513|         Apparel|        5.0|            0|          0|   0|                1|          Five Stars|          Great fit.| 2014-02-14|\n",
      "|         US|   27097189|R1OJA3DJL0VDDK|B019438FEG|    764190574|         Apparel|        5.0|            0|          0|   0|                1|          Five Stars|I have this Colum...| 2014-10-20|\n",
      "|         US|   13808904|R1THWA5YRJLOOF|B0178HGNIA|    816266887|         Apparel|        4.0|            0|          0|   0|                1|          Four Stars|My husband found ...| 2015-07-05|\n",
      "|         US|   30225894| R738LCNRSJVXP|B016VIU0QI|    323924698|         Apparel|        5.0|            6|          7|   0|                1|   Awesome leggings!|Awesome leggings!...| 2015-07-29|\n",
      "|         US|   45223824|R1N3Z13931J3O9|B016PUU3VO|    893588059|         Apparel|        2.0|            0|          0|   0|                1|Sizes not correct...|I ordered the sam...| 2015-01-01|\n",
      "|         US|   22300783|R1LBNTP7E8N89Z|B016AQNDM4|    917361125|         Apparel|        1.0|            0|          0|   0|                1|            One Star| not exact in sizing| 2015-02-12|\n",
      "+-----------+-----------+--------------+----------+-------------+----------------+-----------+-------------+-----------+----+-----------------+--------------------+--------------------+-----------+\n",
      "only showing top 20 rows\n",
      "\n"
     ]
    },
    {
     "name": "stderr",
     "output_type": "stream",
     "text": [
      "\r\n",
      "                                                                                \r"
     ]
    }
   ],
   "source": [
    "spark.sql(\" SELECT * from df \").show()"
   ]
  },
  {
   "cell_type": "code",
   "execution_count": 119,
   "id": "78e94e80",
   "metadata": {},
   "outputs": [
    {
     "name": "stderr",
     "output_type": "stream",
     "text": [
      "[Stage 77:>                                                         (0 + 1) / 1]\r"
     ]
    },
    {
     "name": "stdout",
     "output_type": "stream",
     "text": [
      "+----------+----------------+------------------+\n",
      "|product_id|max(star_rating)|min(helpful_votes)|\n",
      "+----------+----------------+------------------+\n",
      "|B00MMMSNMQ|             5.0|                12|\n",
      "|B00MF78G84|             4.0|                13|\n",
      "|B00M8I0B1A|             5.0|                13|\n",
      "|B00LY1YPAK|             5.0|                17|\n",
      "|B00LXTN63K|             4.0|                33|\n",
      "|B00LXG1EM8|             5.0|                27|\n",
      "|B00LWG59AW|             5.0|                55|\n",
      "|B00LVZN3F2|             5.0|                11|\n",
      "|B00LSXELJY|             5.0|                42|\n",
      "|B00LQMW4YQ|             5.0|                10|\n",
      "+----------+----------------+------------------+\n",
      "\n"
     ]
    },
    {
     "name": "stderr",
     "output_type": "stream",
     "text": [
      "\r\n",
      "                                                                                \r"
     ]
    }
   ],
   "source": [
    "query = \"\"\"\n",
    "\n",
    "SELECT product_id, MAX(star_rating), MIN(helpful_votes)\n",
    "FROM df \n",
    "WHERE star_rating >=4 and helpful_votes >= 10\n",
    "GROUP BY product_id\n",
    "LIMIT 10\n",
    "\n",
    "\"\"\" \n",
    "spark.sql(query).show()"
   ]
  },
  {
   "attachments": {},
   "cell_type": "markdown",
   "id": "21e000d4",
   "metadata": {},
   "source": [
    "# Ghi kết quả ra file parquet "
   ]
  },
  {
   "cell_type": "code",
   "execution_count": 60,
   "id": "1ae5a1f6",
   "metadata": {},
   "outputs": [
    {
     "name": "stderr",
     "output_type": "stream",
     "text": [
      "                                                                                \r"
     ]
    }
   ],
   "source": [
    "query = \"\"\"\n",
    "\n",
    "SELECT product_id, MAX(star_rating), MIN(helpful_votes)\n",
    "FROM df \n",
    "WHERE star_rating >=4 and helpful_votes >= 10\n",
    "GROUP BY product_id\n",
    "\n",
    "\"\"\" \n",
    "\n",
    "spark.sql(query).write.parquet(\n",
    "    \"./day_5_data/report-000.parquet\",\n",
    "    mode = \"overwrite\"\n",
    ")\n",
    "\n",
    "#Dùng  write.partitionBy(col).parquet để partition"
   ]
  },
  {
   "cell_type": "code",
   "execution_count": 61,
   "id": "fc001f06",
   "metadata": {},
   "outputs": [],
   "source": [
    "result_df = spark.read.parquet(\"./day_5_data/report-000.parquet\")"
   ]
  },
  {
   "cell_type": "code",
   "execution_count": 62,
   "id": "352885b1",
   "metadata": {},
   "outputs": [
    {
     "name": "stdout",
     "output_type": "stream",
     "text": [
      "+----------+----------------+------------------+\n",
      "|product_id|max(star_rating)|min(helpful_votes)|\n",
      "+----------+----------------+------------------+\n",
      "|B011DU3MU0|             5.0|                11|\n",
      "|B010NG5OAG|             5.0|                45|\n",
      "|B00ZQ3U93O|             5.0|                24|\n",
      "|B00Y0M6878|             5.0|                11|\n",
      "|B00XVBSBGK|             4.0|                15|\n",
      "|B00XKFVL32|             4.0|                11|\n",
      "|B00XIZ1RI8|             5.0|               105|\n",
      "|B00WW145WY|             4.0|                10|\n",
      "|B00WPKMQS2|             4.0|                14|\n",
      "|B00WB6FCE0|             5.0|                32|\n",
      "|B00WAKT6BM|             5.0|                21|\n",
      "|B00VTVDCRW|             5.0|               164|\n",
      "|B00UN3924Y|             5.0|                18|\n",
      "|B011LTPJWW|             5.0|                76|\n",
      "|B010NUNZW6|             5.0|                15|\n",
      "|B010EA4KOM|             5.0|                10|\n",
      "|B00ZZATRZE|             4.0|                18|\n",
      "|B00ZA1G62A|             5.0|                11|\n",
      "|B00Z0I38II|             5.0|                11|\n",
      "|B00YYR33EA|             5.0|                11|\n",
      "+----------+----------------+------------------+\n",
      "only showing top 20 rows\n",
      "\n"
     ]
    }
   ],
   "source": [
    "result_df.show()"
   ]
  },
  {
   "attachments": {},
   "cell_type": "markdown",
   "id": "e0b980ad",
   "metadata": {},
   "source": [
    "# Ví dụ thực tế."
   ]
  },
  {
   "attachments": {},
   "cell_type": "markdown",
   "id": "8b808fa2",
   "metadata": {},
   "source": [
    "Đếm các comment tốt cho theo sản phẩm + mỗi ngày.\n",
    "\n",
    "Tiêu chí tốt: \n",
    "\n",
    "    - star_rating >= 4 \n",
    "\n",
    "Tiêu chí lọc comment \n",
    "\n",
    "    - helpful_votes >= 10\n"
   ]
  },
  {
   "cell_type": "code",
   "execution_count": 1,
   "id": "c2c90658",
   "metadata": {},
   "outputs": [
    {
     "name": "stderr",
     "output_type": "stream",
     "text": [
      "Setting default log level to \"WARN\".\n",
      "To adjust logging level use sc.setLogLevel(newLevel). For SparkR, use setLogLevel(newLevel).\n",
      "23/09/21 20:58:36 WARN NativeCodeLoader: Unable to load native-hadoop library for your platform... using builtin-java classes where applicable\n",
      "                                                                                \r"
     ]
    }
   ],
   "source": [
    "from pathlib import Path\n",
    "\n",
    "import pyspark\n",
    "from pyspark.sql import SparkSession\n",
    "from pyspark.sql import functions as F\n",
    "from pyspark.sql import types\n",
    "\n",
    "spark = ( \n",
    "    SparkSession.builder\n",
    "            .master(\"local[*]\") \n",
    "            .appName('Aggregate Good Comment')\n",
    "            .getOrCreate()\n",
    ")\n",
    "\n",
    "schema = types.StructType([\n",
    "    types.StructField('marketplace', types.StringType(), True),\n",
    "    types.StructField('customer_id', types.StringType(), True),\n",
    "    types.StructField('review_id', types.StringType(), True),\n",
    "    types.StructField('product_id', types.StringType(), True),\n",
    "    types.StructField('product_parent', types.StringType(), True),\n",
    "    types.StructField('product_category', types.StringType(), True),\n",
    "    types.StructField('star_rating', types.IntegerType(), True),\n",
    "    types.StructField('helpful_votes', types.IntegerType(), True),\n",
    "    types.StructField('total_votes', types.IntegerType(), True),\n",
    "    types.StructField('vine', types.LongType(), True),\n",
    "    types.StructField('verified_purchase', types.LongType(), True),\n",
    "    types.StructField('review_headline', types.StringType(), True),\n",
    "    types.StructField('review_body', types.StringType(), True),\n",
    "    types.StructField('review_date', types.StringType(), True)\n",
    "])\n",
    "\n",
    "# data_storage = \"gs://aws-review-data/read/amazon_us_reviews-train-00000-of-00005.parquet\"\n",
    "data_storage = [ \n",
    "    str(file) for file in Path(\"./day_5_data\").rglob(\"amazon_us_reviews-*.parquet\") \n",
    "]\n",
    "data_write = \"./day_5_data/report-count\"\n",
    "\n",
    "df = spark.read.parquet(*data_storage)\n",
    "df = df.withColumn('review_date', F.to_date(F.col(\"review_date\")))\n",
    "\n",
    "( \n",
    "    df.select(\n",
    "            F.col(\"product_id\"),\n",
    "            F.col(\"review_date\"),\n",
    "            F.col(\"star_rating\"),\n",
    "            F.col(\"helpful_votes\")\n",
    "        )\n",
    "        .where((F.col(\"star_rating\") >= 4 ) & (F.col(\"helpful_votes\") >= 10 ))\n",
    "        .groupBy([\"product_id\",\"review_date\"])\n",
    "        .count()\n",
    "        .write.parquet(data_write,mode = \"overwrite\")\n",
    ")\n",
    "\n",
    "\n",
    "# df.createOrReplaceTempView(\"df\")\n",
    "# query = \"\"\"\n",
    "\n",
    "# SELECT product_id,review_date,COUNT(star_rating)\n",
    "# FROM df \n",
    "# WHERE star_rating >=4 and helpful_votes >= 10\n",
    "# GROUP BY product_id\n",
    "# \"\"\" \n",
    "\n",
    "# spark.sql(query).write.parquet(data_write,\n",
    "#                         mode = \"overwrite\")"
   ]
  },
  {
   "cell_type": "code",
   "execution_count": 2,
   "id": "c761cf78",
   "metadata": {},
   "outputs": [],
   "source": [
    "result_df = spark.read.parquet(\"./day_5_data/report-count\")"
   ]
  },
  {
   "cell_type": "code",
   "execution_count": 3,
   "id": "9eb84681",
   "metadata": {},
   "outputs": [
    {
     "name": "stdout",
     "output_type": "stream",
     "text": [
      "root\n",
      " |-- product_id: string (nullable = true)\n",
      " |-- review_date: date (nullable = true)\n",
      " |-- count: long (nullable = true)\n",
      "\n"
     ]
    }
   ],
   "source": [
    "result_df.printSchema()"
   ]
  },
  {
   "cell_type": "code",
   "execution_count": 3,
   "id": "bcc01629",
   "metadata": {},
   "outputs": [
    {
     "name": "stdout",
     "output_type": "stream",
     "text": [
      "+----------+-----------+-----+\n",
      "|product_id|review_date|count|\n",
      "+----------+-----------+-----+\n",
      "|B000NZW3IY| 2009-05-19|   44|\n",
      "|B000NZW3IY| 2009-05-21|   44|\n",
      "|B000NZW3IY| 2009-05-20|   32|\n",
      "|B000NZW3IY| 2009-05-22|   30|\n",
      "|B002HJ377A| 2013-04-24|   28|\n",
      "|B000NZW3IY| 2009-05-06|   20|\n",
      "|B0053O1KHA| 2014-11-03|   17|\n",
      "|B000NZW3IY| 2009-05-23|   17|\n",
      "|B000NZW3IY| 2009-05-26|   12|\n",
      "|B0053O1KHA| 2014-11-04|   12|\n",
      "|B0053O1KHA| 2014-10-31|   11|\n",
      "|B002LC72P6| 2009-10-18|    9|\n",
      "|B00GXYE9AE| 2013-12-09|    8|\n",
      "|B002LC72P6| 2009-10-17|    8|\n",
      "|B000NZW3IY| 2009-05-24|    7|\n",
      "|B000NZW3IY| 2009-05-07|    7|\n",
      "|B0053O1KHA| 2014-11-01|    7|\n",
      "|B002HJ377A| 2009-07-17|    7|\n",
      "|B00W0R8FYE| 2015-04-13|    7|\n",
      "|B00GWNHZ2K| 2013-12-01|    7|\n",
      "+----------+-----------+-----+\n",
      "only showing top 20 rows\n",
      "\n"
     ]
    }
   ],
   "source": [
    "result_df.orderBy(F.desc(\"count\")).show()"
   ]
  },
  {
   "attachments": {},
   "cell_type": "markdown",
   "id": "b8ec96c6",
   "metadata": {},
   "source": [
    "# RDD"
   ]
  },
  {
   "cell_type": "code",
   "execution_count": 4,
   "id": "405a5b8a",
   "metadata": {},
   "outputs": [
    {
     "name": "stdout",
     "output_type": "stream",
     "text": [
      "+--------------------+--------------------+\n",
      "|     review_headline|         review_body|\n",
      "+--------------------+--------------------+\n",
      "|          Four Stars|Good quality. Rea...|\n",
      "|          Five Stars|It's very cute an...|\n",
      "|Cute and nicely p...|I wasn't sure wha...|\n",
      "|        Good quality|Very good quality...|\n",
      "|Better to buy tha...|Very well made an...|\n",
      "|          Five Stars|Love it!!! Fits a...|\n",
      "|I ordered the 14 ...|Very cute but was...|\n",
      "|Good quality for ...|My boy looks grea...|\n",
      "|           Two Stars|The sleeves are w...|\n",
      "|No dissappointmen...|Great buy! Got th...|\n",
      "+--------------------+--------------------+\n",
      "\n"
     ]
    }
   ],
   "source": [
    "df.select( \n",
    "    F.col('review_headline'),\n",
    "    F.col('review_body')\n",
    ").limit(10).show()"
   ]
  },
  {
   "cell_type": "code",
   "execution_count": 5,
   "id": "f778aa68",
   "metadata": {},
   "outputs": [],
   "source": [
    "rdd_review_body = df.select(\"product_id\",\"review_body\").rdd"
   ]
  },
  {
   "cell_type": "code",
   "execution_count": 17,
   "id": "73c1d12f",
   "metadata": {},
   "outputs": [
    {
     "data": {
      "text/plain": [
       "[Row(product_id='B00JA7GSVO', review_body='Good quality. Reasonable price.<br />Thank you for quick delivery.'),\n",
       " Row(product_id='B00JA7GSO6', review_body=\"It's very cute and just like I expected!\")]"
      ]
     },
     "execution_count": 17,
     "metadata": {},
     "output_type": "execute_result"
    }
   ],
   "source": [
    "rdd_review_body.take(2)"
   ]
  },
  {
   "cell_type": "code",
   "execution_count": 162,
   "id": "db240c18",
   "metadata": {},
   "outputs": [
    {
     "name": "stderr",
     "output_type": "stream",
     "text": [
      "                                                                                \r"
     ]
    }
   ],
   "source": [
    "all_data = rdd_review_body.collect()"
   ]
  },
  {
   "cell_type": "code",
   "execution_count": 10,
   "id": "b73e4abd",
   "metadata": {},
   "outputs": [
    {
     "data": {
      "text/plain": [
       "9"
      ]
     },
     "execution_count": 10,
     "metadata": {},
     "output_type": "execute_result"
    }
   ],
   "source": [
    "rdd_review_body.getNumPartitions()"
   ]
  },
  {
   "cell_type": "code",
   "execution_count": 11,
   "id": "0ea7127f",
   "metadata": {},
   "outputs": [
    {
     "data": {
      "text/plain": [
       "4"
      ]
     },
     "execution_count": 11,
     "metadata": {},
     "output_type": "execute_result"
    }
   ],
   "source": [
    "rdd_review_body.repartition(4).getNumPartitions()"
   ]
  },
  {
   "cell_type": "code",
   "execution_count": 12,
   "id": "4510b638",
   "metadata": {},
   "outputs": [
    {
     "data": {
      "text/plain": [
       "9"
      ]
     },
     "execution_count": 12,
     "metadata": {},
     "output_type": "execute_result"
    }
   ],
   "source": [
    "rdd_review_body.getNumPartitions()"
   ]
  },
  {
   "attachments": {},
   "cell_type": "markdown",
   "id": "cdcdc0b9",
   "metadata": {},
   "source": [
    "### Map"
   ]
  },
  {
   "cell_type": "code",
   "execution_count": 23,
   "id": "2efe508f",
   "metadata": {},
   "outputs": [],
   "source": [
    "def count_len(row):\n",
    "    review = row.review_body\n",
    "    product_id = row.product_id\n",
    "    return (product_id,len(review))\n",
    "\n",
    "def count_len_partition(idx, partitionRows):\n",
    "    for row in partitionRows:\n",
    "        review = row['review_body']\n",
    "        product_id = row['product_id']\n",
    "        yield (idx, product_id,len(review))"
   ]
  },
  {
   "cell_type": "code",
   "execution_count": 24,
   "id": "520ab244",
   "metadata": {},
   "outputs": [
    {
     "data": {
      "text/plain": [
       "[('B00JA7GSVO', 66),\n",
       " ('B00JA7GSO6', 40),\n",
       " ('B00JA7GSO6', 223),\n",
       " ('B00JA7GS3W', 61),\n",
       " ('B00JA7GS3W', 199),\n",
       " ('B00JA7GS3W', 62),\n",
       " ('B00JA7GS3W', 131),\n",
       " ('B00JA7GS3W', 50),\n",
       " ('B00JA7GS3W', 30),\n",
       " ('B00JA7GS3W', 117)]"
      ]
     },
     "execution_count": 24,
     "metadata": {},
     "output_type": "execute_result"
    }
   ],
   "source": [
    "rdd_review_body.map(count_len).take(10)"
   ]
  },
  {
   "cell_type": "code",
   "execution_count": 25,
   "id": "4744d48d",
   "metadata": {},
   "outputs": [
    {
     "data": {
      "text/plain": [
       "[(0, 'B00JA7GSVO', 66),\n",
       " (0, 'B00JA7GSO6', 40),\n",
       " (0, 'B00JA7GSO6', 223),\n",
       " (0, 'B00JA7GS3W', 61),\n",
       " (0, 'B00JA7GS3W', 199)]"
      ]
     },
     "execution_count": 25,
     "metadata": {},
     "output_type": "execute_result"
    }
   ],
   "source": [
    "rdd_review_body.mapPartitionsWithIndex(count_len_partition).take(5)"
   ]
  },
  {
   "cell_type": "code",
   "execution_count": 31,
   "id": "7d4ce03d",
   "metadata": {},
   "outputs": [],
   "source": [
    "def count_word(row):\n",
    "    review = row.review_body\n",
    "    for word in review.split(\" \"):\n",
    "        yield (word,1)"
   ]
  },
  {
   "cell_type": "code",
   "execution_count": 33,
   "id": "8f4de49a",
   "metadata": {},
   "outputs": [
    {
     "data": {
      "text/plain": [
       "[('Good', 1),\n",
       " ('quality.', 1),\n",
       " ('Reasonable', 1),\n",
       " ('price.<br', 1),\n",
       " ('/>Thank', 1),\n",
       " ('you', 1),\n",
       " ('for', 1),\n",
       " ('quick', 1),\n",
       " ('delivery.', 1),\n",
       " (\"It's\", 1)]"
      ]
     },
     "execution_count": 33,
     "metadata": {},
     "output_type": "execute_result"
    }
   ],
   "source": [
    "rdd_review_body.flatMap(count_word).take(10)"
   ]
  },
  {
   "cell_type": "code",
   "execution_count": 34,
   "id": "14030cec",
   "metadata": {},
   "outputs": [],
   "source": [
    "def filter_product(row):\n",
    "    product_id = row.product_id\n",
    "    return product_id != \"B01KL6O72Y\""
   ]
  },
  {
   "cell_type": "code",
   "execution_count": 35,
   "id": "492c4c47",
   "metadata": {},
   "outputs": [
    {
     "data": {
      "text/plain": [
       "[('B00JA7GSVO', 66),\n",
       " ('B00JA7GSO6', 40),\n",
       " ('B00JA7GSO6', 223),\n",
       " ('B00JA7GS3W', 61),\n",
       " ('B00JA7GS3W', 199),\n",
       " ('B00JA7GS3W', 62),\n",
       " ('B00JA7GS3W', 131),\n",
       " ('B00JA7GS3W', 50),\n",
       " ('B00JA7GS3W', 30),\n",
       " ('B00JA7GS3W', 117)]"
      ]
     },
     "execution_count": 35,
     "metadata": {},
     "output_type": "execute_result"
    }
   ],
   "source": [
    "( \n",
    "    rdd_review_body\n",
    "        .filter(filter_product)\n",
    "        .map(count_len)\n",
    "        .take(10)\n",
    ")"
   ]
  },
  {
   "cell_type": "code",
   "execution_count": 36,
   "id": "0b086448",
   "metadata": {},
   "outputs": [],
   "source": [
    "def sort_by_value(record):\n",
    "    return record[1]"
   ]
  },
  {
   "cell_type": "code",
   "execution_count": 37,
   "id": "39a90169",
   "metadata": {},
   "outputs": [
    {
     "name": "stderr",
     "output_type": "stream",
     "text": [
      "                                                                                \r"
     ]
    },
    {
     "data": {
      "text/plain": [
       "[('B00ACT5AK4', 30540),\n",
       " ('B000NZW3IY', 25911),\n",
       " ('B00GMSWYVC', 23369),\n",
       " ('B005304YG8', 18598),\n",
       " ('B006N1KN9I', 16336),\n",
       " ('B00WDZ81JC', 16332),\n",
       " ('B00O7AS0MY', 14273),\n",
       " ('B00188OAZO', 14262),\n",
       " ('B000PGVZFI', 14262),\n",
       " ('B003MQN5P6', 14262)]"
      ]
     },
     "execution_count": 37,
     "metadata": {},
     "output_type": "execute_result"
    }
   ],
   "source": [
    "(\n",
    "    rdd_review_body\n",
    "        .filter(filter_product)\n",
    "        .map(count_len)\n",
    "        .sortBy(sort_by_value,ascending = False)\n",
    "        .take(10)\n",
    ")"
   ]
  },
  {
   "attachments": {},
   "cell_type": "markdown",
   "id": "80070abf",
   "metadata": {},
   "source": [
    "### Reduce"
   ]
  },
  {
   "cell_type": "code",
   "execution_count": 39,
   "id": "a93746f5",
   "metadata": {},
   "outputs": [],
   "source": [
    "def my_sum(x,y):\n",
    "    return x + y"
   ]
  },
  {
   "cell_type": "code",
   "execution_count": 41,
   "id": "ba6be1b9",
   "metadata": {},
   "outputs": [
    {
     "name": "stderr",
     "output_type": "stream",
     "text": [
      "                                                                                \r"
     ]
    },
    {
     "data": {
      "text/plain": [
       "[('B002HJ377A', 1239509),\n",
       " ('B000NZW3IY', 1014301),\n",
       " ('B004M6XUI2', 363297),\n",
       " ('B006PGGJOE', 352309),\n",
       " ('B004M6UDF0', 346183),\n",
       " ('B0045H0L1W', 314670),\n",
       " ('B004M6UD46', 252959),\n",
       " ('B001PU9A9Q', 250071),\n",
       " ('B00FJ5LI3O', 224750),\n",
       " ('B007NOEWV4', 221767)]"
      ]
     },
     "execution_count": 41,
     "metadata": {},
     "output_type": "execute_result"
    }
   ],
   "source": [
    "(\n",
    "    rdd_review_body\n",
    "        .map(count_len)\n",
    "        .reduceByKey(my_sum)\n",
    "        .sortBy(sort_by_value,ascending = False)\n",
    "        .take(10)\n",
    ")"
   ]
  },
  {
   "cell_type": "code",
   "execution_count": 181,
   "id": "03a4ef2a",
   "metadata": {},
   "outputs": [
    {
     "name": "stderr",
     "output_type": "stream",
     "text": [
      "                                                                                \r"
     ]
    }
   ],
   "source": [
    "from collections import namedtuple\n",
    "ProductWordCountRow = namedtuple(\"ProductWordCountRow\",[\"product_id\",\"len_count\"])\n",
    "\n",
    "def return_to_row(record):\n",
    "    return ProductWordCountRow(record[0],record[1])\n",
    "\n",
    "df = (\n",
    "    rdd_review_body\n",
    "        .map(count_len)\n",
    "        .reduceByKey(my_sum)\n",
    "        .map(return_to_row)\n",
    "        .toDF()\n",
    ")"
   ]
  },
  {
   "cell_type": "code",
   "execution_count": 182,
   "id": "319131de",
   "metadata": {},
   "outputs": [
    {
     "name": "stdout",
     "output_type": "stream",
     "text": [
      "+----------+---------+\n",
      "|product_id|len_count|\n",
      "+----------+---------+\n",
      "|B01I497BGY|       87|\n",
      "|B01G6MBEBY|       51|\n",
      "|B01FWRXN0Y|       48|\n",
      "|B01DXHX81O|       10|\n",
      "|B01DDULIJK|      197|\n",
      "|B01B3Q4Q0O|       93|\n",
      "|B01ADDSL9U|       10|\n",
      "|B019MDXIXG|       10|\n",
      "|B019438FEG|       59|\n",
      "|B0178HGNIA|       62|\n",
      "|B016VIU0QI|      366|\n",
      "|B016PUU3VO|      231|\n",
      "|B016AQNDM4|       19|\n",
      "|B01694YS8K|      135|\n",
      "|B015YCHLHS|       83|\n",
      "|B014WCV7JY|       21|\n",
      "|B014PKNCGE|       38|\n",
      "|B014MSSP66|       40|\n",
      "|B014L79H8I|      461|\n",
      "|B014K3PHXW|       33|\n",
      "+----------+---------+\n",
      "only showing top 20 rows\n",
      "\n"
     ]
    }
   ],
   "source": [
    "df.show()"
   ]
  },
  {
   "cell_type": "code",
   "execution_count": 49,
   "id": "acd7021f",
   "metadata": {},
   "outputs": [
    {
     "name": "stderr",
     "output_type": "stream",
     "text": [
      "                                                                                \r"
     ]
    }
   ],
   "source": [
    "def gen_word(row):\n",
    "    '''Returns an iterator of words for a row'''\n",
    "    for word in row['review_body'].split(\" \"):\n",
    "        yield word, 1\n",
    "\n",
    "# groupByKey and map can be combined using reduceByKey\n",
    "# like below!\n",
    "rdd_review_body \\\n",
    "    .flatMap(gen_word) \\\n",
    "    .groupByKey() \\\n",
    "    .map(lambda x: (x[0], sum(x[1]))) \\\n",
    "    .sortBy(lambda x: x[1], ascending=False) \\\n",
    "    .take(10)"
   ]
  },
  {
   "attachments": {},
   "cell_type": "markdown",
   "id": "b9ff40d1",
   "metadata": {},
   "source": [
    "# Word Count  bằng rdd"
   ]
  },
  {
   "cell_type": "code",
   "execution_count": 1,
   "id": "2bc598f1",
   "metadata": {},
   "outputs": [
    {
     "ename": "NameError",
     "evalue": "name 'rdd_review_body' is not defined",
     "output_type": "error",
     "traceback": [
      "\u001b[0;31m---------------------------------------------------------------------------\u001b[0m",
      "\u001b[0;31mNameError\u001b[0m                                 Traceback (most recent call last)",
      "\u001b[1;32m/Users/vince/protonx-DE/day_5 (Spark)/day_5.ipynb Cell 85\u001b[0m line \u001b[0;36m1\n\u001b[0;32m----> <a href='vscode-notebook-cell:/Users/vince/protonx-DE/day_5%20%28Spark%29/day_5.ipynb#Y150sZmlsZQ%3D%3D?line=0'>1</a>\u001b[0m rdd_review_body \\\n\u001b[1;32m      <a href='vscode-notebook-cell:/Users/vince/protonx-DE/day_5%20%28Spark%29/day_5.ipynb#Y150sZmlsZQ%3D%3D?line=1'>2</a>\u001b[0m     \u001b[39m.\u001b[39mflatMap(count_word) \\\n\u001b[1;32m      <a href='vscode-notebook-cell:/Users/vince/protonx-DE/day_5%20%28Spark%29/day_5.ipynb#Y150sZmlsZQ%3D%3D?line=2'>3</a>\u001b[0m     \u001b[39m.\u001b[39mreduceByKey(\u001b[39mlambda\u001b[39;00m x,y: x \u001b[39m+\u001b[39m y) \\\n\u001b[1;32m      <a href='vscode-notebook-cell:/Users/vince/protonx-DE/day_5%20%28Spark%29/day_5.ipynb#Y150sZmlsZQ%3D%3D?line=3'>4</a>\u001b[0m     \u001b[39m.\u001b[39msortBy(\u001b[39mlambda\u001b[39;00m x: x[\u001b[39m1\u001b[39m], ascending\u001b[39m=\u001b[39m\u001b[39mFalse\u001b[39;00m) \\\n\u001b[1;32m      <a href='vscode-notebook-cell:/Users/vince/protonx-DE/day_5%20%28Spark%29/day_5.ipynb#Y150sZmlsZQ%3D%3D?line=4'>5</a>\u001b[0m     \u001b[39m.\u001b[39mtake(\u001b[39m10\u001b[39m)\n",
      "\u001b[0;31mNameError\u001b[0m: name 'rdd_review_body' is not defined"
     ]
    }
   ],
   "source": [
    "rdd_review_body \\\n",
    "    .flatMap(count_word) \\\n",
    "    .reduceByKey(lambda x,y: x + y) \\\n",
    "    .sortBy(lambda x: x[1], ascending=False) \\\n",
    "    .take(10)"
   ]
  },
  {
   "cell_type": "code",
   "execution_count": 184,
   "id": "b39d0631",
   "metadata": {},
   "outputs": [
    {
     "name": "stderr",
     "output_type": "stream",
     "text": [
      "                                                                                \r"
     ]
    }
   ],
   "source": [
    "import pyspark\n",
    "from pyspark.sql import SparkSession\n",
    "from pyspark.sql import types\n",
    "\n",
    "def count_word(row):\n",
    "    review = row.review_body\n",
    "    for word in review.split(\" \"):\n",
    "        yield (word,1)\n",
    "\n",
    "def my_sum(x,y):\n",
    "    return x + y\n",
    "\n",
    "spark = ( \n",
    "    SparkSession.builder\n",
    "            .master(\"yarn\") \n",
    "            .appName('Aggreate Good Comment')\n",
    "            .getOrCreate()\n",
    ")\n",
    "\n",
    "schema = types.StructType([\n",
    "    types.StructField('marketplace', types.StringType(), True),\n",
    "    types.StructField('customer_id', types.StringType(), True),\n",
    "    types.StructField('review_id', types.StringType(), True),\n",
    "    types.StructField('product_id', types.StringType(), True),\n",
    "    types.StructField('product_parent', types.StringType(), True),\n",
    "    types.StructField('product_category', types.StringType(), True),\n",
    "    types.StructField('star_rating', types.IntegerType(), True),\n",
    "    types.StructField('helpful_votes', types.IntegerType(), True),\n",
    "    types.StructField('total_votes', types.IntegerType(), True),\n",
    "    types.StructField('vine', types.LongType(), True),\n",
    "    types.StructField('verified_purchase', types.LongType(), True),\n",
    "    types.StructField('review_headline', types.StringType(), True),\n",
    "    types.StructField('review_body', types.StringType(), True),\n",
    "    types.StructField('review_date', types.StringType(), True)\n",
    "])\n",
    "\n",
    "data_storage = \"gs://aws-review-data/amazon_us_reviews-train-00000-of-00005.parquet\"\n",
    "data_write = \"gs://aws-review-data/write/world-count\"\n",
    "\n",
    "df = spark.read.schema(schema).parquet(data_storage)\n",
    "rdd_review_body = df.select(\"review_body\").rdd\n",
    "(\n",
    "    rdd_review_body\n",
    "        .flatMap(count_word)\n",
    "        .reduceByKey(my_sum)\n",
    "        .saveAsTextFile(data_write)\n",
    ")\n"
   ]
  }
 ],
 "metadata": {
  "kernelspec": {
   "display_name": "Python 3",
   "language": "python",
   "name": "python3"
  },
  "language_info": {
   "codemirror_mode": {
    "name": "ipython",
    "version": 3
   },
   "file_extension": ".py",
   "mimetype": "text/x-python",
   "name": "python",
   "nbconvert_exporter": "python",
   "pygments_lexer": "ipython3",
   "version": "3.9.18"
  }
 },
 "nbformat": 4,
 "nbformat_minor": 5
}
