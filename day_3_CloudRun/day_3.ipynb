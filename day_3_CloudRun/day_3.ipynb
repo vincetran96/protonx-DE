{
  "nbformat": 4,
  "nbformat_minor": 0,
  "metadata": {
    "colab": {
      "provenance": [],
      "collapsed_sections": [
        "aIVfez_Eq8s_"
      ]
    },
    "kernelspec": {
      "name": "python3",
      "display_name": "Python 3"
    },
    "language_info": {
      "name": "python"
    }
  },
  "cells": [
    {
      "cell_type": "markdown",
      "source": [
        "# Cài đặt gcloud"
      ],
      "metadata": {
        "id": "aIVfez_Eq8s_"
      }
    },
    {
      "cell_type": "markdown",
      "source": [
        "Cài đặt gcloud theo link và hướng dẫn ở đây:\n",
        "\n",
        "https://cloud.google.com/sdk/docs/install\n",
        "\n",
        "### Một số câu lệnh\n",
        "\n",
        "Sau khi cài đặt xong, chúng ta sử dụng một số câu lệnh sau:\n",
        "\n",
        "Đăng nhập vào app gcloud\n",
        "```\n",
        "gcloud auth login\n",
        "```\n",
        "Lấy crediential để có thể chạy code trên máy local:\n",
        "\n",
        "```\n",
        "gcloud auth application-default login\n",
        "```\n",
        "\n",
        "Update gcloud\n",
        "```\n",
        "gcloud components update\n",
        "```\n",
        "\n",
        "Update setting về vùng\n",
        "```\n",
        "gcloud config set compute/region asia-east1\n",
        "```\n",
        "\n",
        "### Nếu bạn có nhiều account và project\n",
        "List Account và project\n",
        "```\n",
        "gcloud auth list\n",
        "gcloud projects list --sort-by=projectId\n",
        "```\n",
        "\n",
        "\n",
        "Set Account và Project\n",
        "\n",
        "```\n",
        "gcloud config set account ACCOUNT_EMAIL\n",
        "gcloud config set projects PROJECT_ID\n",
        "```\n",
        "\n",
        "\n",
        "Nếu sử dụng service account nên cấu hình environment variable tới\n",
        "GOOGLE_APPLICATION_CREDENTIALS\n",
        "```\n",
        "export GOOGLE_APPLICATION_CREDENTIALS=\"path/to/service/account\"\n",
        "```"
      ],
      "metadata": {
        "id": "rQAfzveZq_-T"
      }
    },
    {
      "cell_type": "markdown",
      "source": [
        "# Tạo service Account\n",
        "\n",
        "batch-job-service-account\n",
        "\n",
        "<!-- @test-app-309909.iam.gserviceaccount.com -->"
      ],
      "metadata": {
        "id": "GwDTqr28bs7D"
      }
    },
    {
      "cell_type": "markdown",
      "source": [
        "# Thao tác với gs\n",
        "\n",
        "Cài đặt thư viện trên python"
      ],
      "metadata": {
        "id": "O6vr3aUZtCAA"
      }
    },
    {
      "cell_type": "code",
      "source": [
        "# !pip install --upgrade google-cloud-storage"
      ],
      "metadata": {
        "id": "p-A7vG3_q8Ec"
      },
      "execution_count": null,
      "outputs": []
    },
    {
      "cell_type": "code",
      "source": [
        "# !gcloud auth application-default login"
      ],
      "metadata": {
        "id": "lWAtkTzOx672"
      },
      "execution_count": null,
      "outputs": []
    },
    {
      "cell_type": "code",
      "source": [
        "from google.colab import auth\n",
        "\n",
        "PROJECT_ID = \"test-app-309909\"\n",
        "auth.authenticate_user(project_id=PROJECT_ID)"
      ],
      "metadata": {
        "id": "autLiay78U6q"
      },
      "execution_count": 1,
      "outputs": []
    },
    {
      "cell_type": "code",
      "source": [
        "from google.cloud import storage\n",
        "\n",
        "# Khởi tạo client\n",
        "PROJECT_ID = 'test-app-309909'\n",
        "storage_client = storage.Client(project = PROJECT_ID)"
      ],
      "metadata": {
        "id": "uiBcKkRHxDq6"
      },
      "execution_count": 2,
      "outputs": []
    },
    {
      "cell_type": "code",
      "source": [
        "# Tạo bucket\n",
        "# BUCKET_NAME = \"bronze-zone\"\n",
        "# bucket = storage_client.create_bucket(bucket_name)"
      ],
      "metadata": {
        "id": "kk8r7LFVtMBB"
      },
      "execution_count": null,
      "outputs": []
    },
    {
      "cell_type": "code",
      "source": [
        "# Lấy bucket\n",
        "BUCKET_NAME = \"mmo_event_processing\"\n",
        "bucket = storage_client.get_bucket(BUCKET_NAME)"
      ],
      "metadata": {
        "id": "GsfyFBv7z6D2"
      },
      "execution_count": 3,
      "outputs": []
    },
    {
      "cell_type": "code",
      "source": [
        "# List các file có trong bucket với đường dẫn:\n",
        "# gs://bronze-zone/event/2023/08/12/\n",
        "\n",
        "PREFIX = \"bronze-zone/event/2023/08/12/\"\n",
        "for blob in bucket.list_blobs(prefix=PREFIX):\n",
        "    print(blob)\n",
        "\n",
        "# Câu lệnh tương tự:\n",
        "# for blob in storage_client.list_blobs(BUCKET_NAME,prefix=PREFIX):\n",
        "#     print(blob.name)"
      ],
      "metadata": {
        "colab": {
          "base_uri": "https://localhost:8080/"
        },
        "id": "zMg8RB8Zwll3",
        "outputId": "981875db-c346-4046-cff0-c8638e9fc563"
      },
      "execution_count": 4,
      "outputs": [
        {
          "output_type": "stream",
          "name": "stdout",
          "text": [
            "<Blob: mmo_event_processing, bronze-zone/event/2023/08/12/c6bfa982-3933-11ee-800c-56934cb9d3ad.json, 1692770728797278>\n",
            "<Blob: mmo_event_processing, bronze-zone/event/2023/08/12/c8aaf800-3933-11ee-800c-56934cb9d3ad.json, 1692770730477281>\n"
          ]
        }
      ]
    },
    {
      "cell_type": "code",
      "source": [
        "# Lấy blob / Tạo blob\n",
        "GCS_BLOB_NAME = \"bronze-zone/event/2023/08/12/c6bfa982-3933-11ee-800c-56934cb9d3ad.json\"\n",
        "# GCS_BLOB_NAME = \"none/path/blob\"\n",
        "\n",
        "blob = bucket.blob(GCS_BLOB_NAME)\n",
        "blob"
      ],
      "metadata": {
        "colab": {
          "base_uri": "https://localhost:8080/"
        },
        "id": "PGvsSWzcwyIk",
        "outputId": "8a2e3ec8-b887-4be2-f421-1e43482d14a0"
      },
      "execution_count": 5,
      "outputs": [
        {
          "output_type": "execute_result",
          "data": {
            "text/plain": [
              "<Blob: mmo_event_processing, bronze-zone/event/2023/08/12/c6bfa982-3933-11ee-800c-56934cb9d3ad.json, None>"
            ]
          },
          "metadata": {},
          "execution_count": 5
        }
      ]
    },
    {
      "cell_type": "code",
      "source": [
        "# Kiểm tra blob có tồn tại hay không\n",
        "is_existed = blob.exists()\n",
        "is_existed"
      ],
      "metadata": {
        "colab": {
          "base_uri": "https://localhost:8080/"
        },
        "id": "cnWaYI9dwzOc",
        "outputId": "5ab6c203-6df7-44c0-af24-5a69db8bd4a9"
      },
      "execution_count": 6,
      "outputs": [
        {
          "output_type": "execute_result",
          "data": {
            "text/plain": [
              "True"
            ]
          },
          "metadata": {},
          "execution_count": 6
        }
      ]
    },
    {
      "cell_type": "code",
      "source": [
        "# Download file về máy\n",
        "# Đổi tên thành đường dẫn bạn muốn down\n",
        "LOCAL_FILE_PATH = \"./downloaded.json\"\n",
        "\n",
        "blob.download_to_filename(LOCAL_FILE_PATH)"
      ],
      "metadata": {
        "id": "kFtgo0THxJcJ"
      },
      "execution_count": 7,
      "outputs": []
    },
    {
      "cell_type": "code",
      "source": [
        "# Download file vào bộ nhớ\n",
        "data = blob.download_as_bytes()"
      ],
      "metadata": {
        "id": "peS8AD0axKmh"
      },
      "execution_count": 8,
      "outputs": []
    },
    {
      "cell_type": "code",
      "source": [
        "# data\n",
        "# Trường hợp data là file json\n",
        "for line in data.decode('utf-8').split(\"/n\"):\n",
        "    print(line)\n",
        "    break"
      ],
      "metadata": {
        "id": "cVSI2BE_1y5o"
      },
      "execution_count": null,
      "outputs": []
    },
    {
      "cell_type": "code",
      "source": [
        "# Upload file lên blob\n",
        "# blob.upload_from_filename(LOCAL_FILE_PATH)"
      ],
      "metadata": {
        "id": "BwLPFXm-w7Eu"
      },
      "execution_count": null,
      "outputs": []
    },
    {
      "cell_type": "markdown",
      "source": [
        "# Thao tác với pyarrow\n",
        "\n",
        "https://arrow.apache.org/cookbook/py/data.html\n"
      ],
      "metadata": {
        "id": "CDcImRbw2QLS"
      }
    },
    {
      "cell_type": "code",
      "source": [
        "# Cài đặt pyarrow\n",
        "!pip install --upgrade pyarrow"
      ],
      "metadata": {
        "id": "nD5FhVhb2P5A"
      },
      "execution_count": null,
      "outputs": []
    },
    {
      "cell_type": "code",
      "source": [
        "import pyarrow\n",
        "import pyarrow.json\n",
        "import pyarrow.parquet"
      ],
      "metadata": {
        "id": "GllA6oZy2t6g"
      },
      "execution_count": 25,
      "outputs": []
    },
    {
      "cell_type": "code",
      "source": [
        "GCS_BLOB_NAME = \"gold-zone/json/c6bfa982-3933-11ee-800c-56934cb9d3ad.json\"\n",
        "blob = bucket.blob(GCS_BLOB_NAME)\n",
        "\n",
        "LOCAL_FILE_PATH = \"./cleaned.json\"\n",
        "blob.download_to_filename(LOCAL_FILE_PATH)\n",
        "\n",
        "# Đọc JSON từ file.\n",
        "table = pyarrow.json.read_json(LOCAL_FILE_PATH)"
      ],
      "metadata": {
        "id": "rSKPaQ4i3ov2"
      },
      "execution_count": 12,
      "outputs": []
    },
    {
      "cell_type": "code",
      "source": [
        "table.schema"
      ],
      "metadata": {
        "id": "ku7XKPzVx3sO"
      },
      "execution_count": null,
      "outputs": []
    },
    {
      "cell_type": "code",
      "source": [
        "schema = pyarrow.schema([\n",
        "    ('event_id', pyarrow.string()),\n",
        "    ('event_type', pyarrow.string()),\n",
        "    ('timestamp', pyarrow.string()),   # Sửa kiểu timestamp thành string\n",
        "    ('user_id', pyarrow.int64()),\n",
        "    ('location', pyarrow.string()),\n",
        "    ('device', pyarrow.string()),\n",
        "    ('ip_address', pyarrow.string()),\n",
        "    ('event_attribute', pyarrow.list_(pyarrow.struct([\n",
        "        ('key', pyarrow.string()),\n",
        "        ('int_value', pyarrow.int64()),\n",
        "        ('float_value', pyarrow.float64()),\n",
        "        ('string_value', pyarrow.string()),\n",
        "        ('bool_value', pyarrow.bool_())\n",
        "    ])))\n",
        "])\n",
        "\n",
        "parse_opt = pyarrow.json.ParseOptions(\n",
        "    explicit_schema = schema\n",
        ")\n",
        "table = pyarrow.json.read_json(LOCAL_FILE_PATH,parse_options=parse_opt)"
      ],
      "metadata": {
        "id": "0CDUXz7cAqxT"
      },
      "execution_count": 19,
      "outputs": []
    },
    {
      "cell_type": "code",
      "source": [
        "table.schema"
      ],
      "metadata": {
        "id": "Wx9X0C7_BVBE"
      },
      "execution_count": null,
      "outputs": []
    },
    {
      "cell_type": "code",
      "source": [
        "table['event_id']\n",
        "\n",
        "# table[['event_id','event_attribute']] Lỗi"
      ],
      "metadata": {
        "id": "3MNFpQ2dzSKf"
      },
      "execution_count": null,
      "outputs": []
    },
    {
      "cell_type": "code",
      "source": [
        "table.select(['event_id','event_attribute'])"
      ],
      "metadata": {
        "id": "gMlU80FGzg6j"
      },
      "execution_count": null,
      "outputs": []
    },
    {
      "cell_type": "code",
      "source": [
        "table.group_by('user_id').aggregate([(\"event_id\", \"count\"),\n",
        "                                    (\"timestamp\", \"max\")])"
      ],
      "metadata": {
        "id": "m8WURW7yzrAU"
      },
      "execution_count": 25,
      "outputs": []
    },
    {
      "cell_type": "code",
      "source": [
        "# Xuất table ra file\n",
        "pyarrow.parquet.write_table(table,\"table.parquet\", compression=\"snappy\")"
      ],
      "metadata": {
        "id": "M-6a7u3p3llj"
      },
      "execution_count": 29,
      "outputs": []
    },
    {
      "cell_type": "code",
      "source": [
        "# Check size của data\n",
        "!du -h cleaned.json table.parquet"
      ],
      "metadata": {
        "colab": {
          "base_uri": "https://localhost:8080/"
        },
        "id": "v4nYAAHGCBWW",
        "outputId": "230d92f6-2d31-4a9f-e998-66738139cfd5"
      },
      "execution_count": 31,
      "outputs": [
        {
          "output_type": "stream",
          "name": "stdout",
          "text": [
            "21M\tcleaned.json\n",
            "4.5M\ttable.parquet\n"
          ]
        }
      ]
    },
    {
      "cell_type": "code",
      "source": [
        "# Đọc table từ parquet file\n",
        "pyarrow.parquet.read_table(\"table.parquet\")"
      ],
      "metadata": {
        "id": "ZYfvOEP-B1FC"
      },
      "execution_count": null,
      "outputs": []
    },
    {
      "cell_type": "code",
      "source": [
        "# Ghi ra dataset\n",
        "pyarrow.parquet.write_to_dataset(table, root_path='event_info_dataset',\n",
        "                                    partition_cols=['event_type',\n",
        "                                                    'user_id'])"
      ],
      "metadata": {
        "id": "CwYDQEda_3ws"
      },
      "execution_count": 32,
      "outputs": []
    },
    {
      "cell_type": "code",
      "source": [
        "import pyarrow.fs\n",
        "\n",
        "# Định nghĩa google file system\n",
        "gcs = pyarrow.fs.GcsFileSystem(anonymous=False)"
      ],
      "metadata": {
        "id": "ni-6YWjY_62H"
      },
      "execution_count": 10,
      "outputs": []
    },
    {
      "cell_type": "code",
      "source": [
        "# Mở file trên google cloud storage và đọc file\n",
        "my_file = gcs.open_input_stream(\"mmo_event_processing/gold-zone/json/c6bfa982-3933-11ee-800c-56934cb9d3ad.json\")\n",
        "\n",
        "schema = pyarrow.schema([\n",
        "    ('event_id', pyarrow.string()),\n",
        "    ('event_type', pyarrow.string()),\n",
        "    ('timestamp', pyarrow.string()),\n",
        "    ('user_id', pyarrow.int64()),\n",
        "    ('location', pyarrow.string()),\n",
        "    ('device', pyarrow.string()),\n",
        "    ('ip_address', pyarrow.string()),\n",
        "    ('event_attribute', pyarrow.list_(pyarrow.struct([\n",
        "        ('key', pyarrow.string()),\n",
        "        ('int_value', pyarrow.int64()),\n",
        "        ('float_value', pyarrow.float64()),\n",
        "        ('string_value', pyarrow.string()),\n",
        "        ('bool_value', pyarrow.bool_())\n",
        "    ])))\n",
        "])\n",
        "\n",
        "parse_opt = pyarrow.json.ParseOptions(\n",
        "    explicit_schema = schema\n",
        ")\n",
        "\n",
        "table = pyarrow.json.read_json(my_file,parse_options=parse_opt)"
      ],
      "metadata": {
        "id": "729tvUgX3jEZ"
      },
      "execution_count": 11,
      "outputs": []
    },
    {
      "cell_type": "code",
      "source": [
        "table"
      ],
      "metadata": {
        "id": "YPyGswYAb7AS"
      },
      "execution_count": null,
      "outputs": []
    },
    {
      "cell_type": "code",
      "source": [
        "# Ghi ra dataset file\n",
        "pyarrow.parquet.write_to_dataset(table,\n",
        "                                root_path='mmo_event_processing/gold-zone/event_info_dataset',\n",
        "                                partition_cols=['event_type', 'user_id'],\n",
        "                                filesystem=gcs)"
      ],
      "metadata": {
        "id": "RMp2W5en9FGK"
      },
      "execution_count": 37,
      "outputs": []
    },
    {
      "cell_type": "markdown",
      "source": [
        "# Problem :\n",
        "- Pyarrow chỉ Overwrite dataset\n",
        "- Work arround:\n",
        "    - Lưu data theo path year/month/day\n",
        "    - Parse Timestamp thành cột year/month/day\n"
      ],
      "metadata": {
        "id": "WRC-PaR9Am1P"
      }
    },
    {
      "cell_type": "markdown",
      "source": [
        "# Pandas và pyarrow\n",
        "\n",
        "Pandas 2.0 có hỗ trợ pyarrow engine\n"
      ],
      "metadata": {
        "id": "U5inxEIYQYb3"
      }
    },
    {
      "cell_type": "code",
      "source": [
        "!pip install --upgrade pandas"
      ],
      "metadata": {
        "id": "z9c1qPA3Qd2E"
      },
      "execution_count": null,
      "outputs": []
    },
    {
      "cell_type": "code",
      "source": [
        "import pandas as pd\n",
        "\n",
        "\n",
        "pd.read_parquet(\"./table.parquet\",engine = \"pyarrow\")\n",
        "\n",
        "# Convert Pyarrow sang pandas\n",
        "df = table.to_pandas( types_mapper = pd.ArrowDtype)"
      ],
      "metadata": {
        "id": "zktvoxS7Qb1o"
      },
      "execution_count": 14,
      "outputs": []
    },
    {
      "cell_type": "code",
      "source": [
        "df['datetime'] = df['timestamp'].str.split(\" \").map(lambda x: x[0])\n",
        "df['year'] = df['datetime'].str.split(\"-\").map(lambda x: x[0])\n",
        "df['month'] = df['datetime'].str.split(\"-\").map(lambda x: x[1])\n",
        "df['day'] = df['datetime'].str.split(\"-\").map(lambda x: x[2])\n",
        "\n",
        "new_table = pyarrow.Table.from_pandas(df)\n",
        "\n",
        "pyarrow.parquet.write_to_dataset(new_table,\n",
        "                                root_path='mmo_event_processing/gold-zone/event_info_dataset',\n",
        "                                partition_cols=['year','month','day'],\n",
        "                                filesystem=gcs)"
      ],
      "metadata": {
        "id": "nqMQwhVwQpvi"
      },
      "execution_count": 26,
      "outputs": []
    },
    {
      "cell_type": "markdown",
      "source": [
        "# Cloud Build\n",
        "\n",
        "Câu lệnh build bằng docker\n",
        "```\n",
        "docker build\n",
        "```\n",
        "\n",
        "Câu lệnh build trên cloud\n",
        "```\n",
        "gcloud builds submit --tag gcr.io/project-id/test-app-309909/simple-image:v1.0\n",
        "```\n",
        "\n",
        "```\n",
        "# cloudbuild.yaml\n",
        "steps:\n",
        "    - name: 'gcr.io/cloud-builders/docker'\n",
        "args: [ 'build', '-t','gcr.io/${_PROJECT_ID}/${_IMAGE_NAME}:${_TAG}', '.' ]\n",
        "substitutions:\n",
        "_PROJECT_ID: test-app-309909 # default value\n",
        "_IMAGE_NAME: simple-image # default value\n",
        "_TAG: v1.0\n",
        "images:\n",
        "- 'gcr.io/${_PROJECT_ID}/${_IMAGE_NAME}:${_TAG}'\n",
        "```\n",
        "\n",
        "```\n",
        "gcloud builds submit --config=cloudbuild.yaml\n",
        "```\n",
        "\n",
        "```\n",
        "gcloud builds submit \\\n",
        "        --config=cloudbuild.yaml \\\n",
        "        --substitutions=_PROJECT_ID=test-app-309909,_IMAGE_NAME=simple-image,_TAG=v1.0\n",
        "```"
      ],
      "metadata": {
        "id": "coNtd4z2Ayks"
      }
    },
    {
      "cell_type": "markdown",
      "source": [
        "# Cloud Run\n",
        "\n",
        "Câu lệnh tạo job cloud run\n",
        "```\n",
        "export PROJECT_ID=test-app-309909\n",
        "export IMAGE=simple-image\n",
        "export TAG=v1.0\n",
        "export JOB_NAME=simple-job\n",
        "export SERVICE_ACCOUNT=batch-job-service-account@test-app-309909.iam.gserviceaccount.com\n",
        "\n",
        "gcloud run jobs create ${JOB_NAME} \\\n",
        "            --region asia-east1 \\\n",
        "            --image gcr.io/${PROJECT_ID}/${IMAGE}:${TAG} \\\n",
        "            --service-account ${SERVICE_ACCOUNT}\n",
        "```"
      ],
      "metadata": {
        "id": "2wO65s7vBTU0"
      }
    },
    {
      "cell_type": "markdown",
      "source": [
        "# Cloud Scheduler\n",
        "\n",
        "Câu lệnh tạo cloud scheduler\n",
        "\n",
        "```\n",
        "export PROJECT_ID=test-app-309909\n",
        "export IMAGE=simple-image\n",
        "export TAG=v1.0\n",
        "export SCHEDULER_NAME=simple-scheduler\n",
        "export JOB_NAME=simple-job\n",
        "export CLOUD_RUN_REGION=asia-east1\n",
        "export SCHEDULER_REGION=asia-east1\n",
        "export SERVICE_ACCOUNT=batch-job-service-account@test-app-309909.iam.gserviceaccount.com\n",
        "\n",
        "\n",
        "gcloud scheduler jobs create http ${SCHEDULER_NAME}\\\n",
        "        --location ${SCHEDULER_REGION} \\\n",
        "        --schedule=\"* * * * *\" \\\n",
        "        --uri=\"https://${CLOUD_RUN_REGION}-run.googleapis.com/apis/run.googleapis.com/v1/namespaces/${PROJECT_ID}/jobs/${JOB_NAME}:run\" \\\n",
        "        --http-method POST \\\n",
        "        --oidc-service-account-email ${SERVICE_ACCOUNT}\n",
        "\n",
        "```"
      ],
      "metadata": {
        "id": "F21QShOinX2n"
      }
    }
  ]
}